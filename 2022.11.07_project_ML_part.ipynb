{
 "cells": [
  {
   "cell_type": "code",
   "execution_count": 2,
   "id": "9ec3fd50",
   "metadata": {},
   "outputs": [],
   "source": [
    "%matplotlib inline\n",
    "import pandas as pd\n",
    "import matplotlib.pyplot as plt\n",
    "import seaborn as sns\n",
    "import numpy as np\n",
    "from scipy import stats\n",
    "from tqdm.auto import tqdm"
   ]
  },
  {
   "cell_type": "markdown",
   "id": "d15c7e7a",
   "metadata": {},
   "source": [
    "# Подготовка датасета"
   ]
  },
  {
   "cell_type": "code",
   "execution_count": 3,
   "id": "a93ef539",
   "metadata": {},
   "outputs": [],
   "source": [
    "#импортируем датасет\n",
    "\n",
    "df = pd.read_csv('wiki_movie_plots_deduped.csv', sep=',')"
   ]
  },
  {
   "cell_type": "code",
   "execution_count": 4,
   "id": "5f3f30b8",
   "metadata": {},
   "outputs": [
    {
     "data": {
      "text/html": [
       "<div>\n",
       "<style scoped>\n",
       "    .dataframe tbody tr th:only-of-type {\n",
       "        vertical-align: middle;\n",
       "    }\n",
       "\n",
       "    .dataframe tbody tr th {\n",
       "        vertical-align: top;\n",
       "    }\n",
       "\n",
       "    .dataframe thead th {\n",
       "        text-align: right;\n",
       "    }\n",
       "</style>\n",
       "<table border=\"1\" class=\"dataframe\">\n",
       "  <thead>\n",
       "    <tr style=\"text-align: right;\">\n",
       "      <th></th>\n",
       "      <th>Release Year</th>\n",
       "      <th>Title</th>\n",
       "      <th>Origin/Ethnicity</th>\n",
       "      <th>Director</th>\n",
       "      <th>Cast</th>\n",
       "      <th>Genre</th>\n",
       "      <th>Wiki Page</th>\n",
       "      <th>Plot</th>\n",
       "    </tr>\n",
       "  </thead>\n",
       "  <tbody>\n",
       "    <tr>\n",
       "      <th>0</th>\n",
       "      <td>1901</td>\n",
       "      <td>Kansas Saloon Smashers</td>\n",
       "      <td>American</td>\n",
       "      <td>Unknown</td>\n",
       "      <td>NaN</td>\n",
       "      <td>unknown</td>\n",
       "      <td>https://en.wikipedia.org/wiki/Kansas_Saloon_Sm...</td>\n",
       "      <td>A bartender is working at a saloon, serving dr...</td>\n",
       "    </tr>\n",
       "    <tr>\n",
       "      <th>1</th>\n",
       "      <td>1901</td>\n",
       "      <td>Love by the Light of the Moon</td>\n",
       "      <td>American</td>\n",
       "      <td>Unknown</td>\n",
       "      <td>NaN</td>\n",
       "      <td>unknown</td>\n",
       "      <td>https://en.wikipedia.org/wiki/Love_by_the_Ligh...</td>\n",
       "      <td>The moon, painted with a smiling face hangs ov...</td>\n",
       "    </tr>\n",
       "    <tr>\n",
       "      <th>2</th>\n",
       "      <td>1901</td>\n",
       "      <td>The Martyred Presidents</td>\n",
       "      <td>American</td>\n",
       "      <td>Unknown</td>\n",
       "      <td>NaN</td>\n",
       "      <td>unknown</td>\n",
       "      <td>https://en.wikipedia.org/wiki/The_Martyred_Pre...</td>\n",
       "      <td>The film, just over a minute long, is composed...</td>\n",
       "    </tr>\n",
       "    <tr>\n",
       "      <th>3</th>\n",
       "      <td>1901</td>\n",
       "      <td>Terrible Teddy, the Grizzly King</td>\n",
       "      <td>American</td>\n",
       "      <td>Unknown</td>\n",
       "      <td>NaN</td>\n",
       "      <td>unknown</td>\n",
       "      <td>https://en.wikipedia.org/wiki/Terrible_Teddy,_...</td>\n",
       "      <td>Lasting just 61 seconds and consisting of two ...</td>\n",
       "    </tr>\n",
       "    <tr>\n",
       "      <th>4</th>\n",
       "      <td>1902</td>\n",
       "      <td>Jack and the Beanstalk</td>\n",
       "      <td>American</td>\n",
       "      <td>George S. Fleming, Edwin S. Porter</td>\n",
       "      <td>NaN</td>\n",
       "      <td>unknown</td>\n",
       "      <td>https://en.wikipedia.org/wiki/Jack_and_the_Bea...</td>\n",
       "      <td>The earliest known adaptation of the classic f...</td>\n",
       "    </tr>\n",
       "  </tbody>\n",
       "</table>\n",
       "</div>"
      ],
      "text/plain": [
       "   Release Year                             Title Origin/Ethnicity  \\\n",
       "0          1901            Kansas Saloon Smashers         American   \n",
       "1          1901     Love by the Light of the Moon         American   \n",
       "2          1901           The Martyred Presidents         American   \n",
       "3          1901  Terrible Teddy, the Grizzly King         American   \n",
       "4          1902            Jack and the Beanstalk         American   \n",
       "\n",
       "                             Director Cast    Genre  \\\n",
       "0                             Unknown  NaN  unknown   \n",
       "1                             Unknown  NaN  unknown   \n",
       "2                             Unknown  NaN  unknown   \n",
       "3                             Unknown  NaN  unknown   \n",
       "4  George S. Fleming, Edwin S. Porter  NaN  unknown   \n",
       "\n",
       "                                           Wiki Page  \\\n",
       "0  https://en.wikipedia.org/wiki/Kansas_Saloon_Sm...   \n",
       "1  https://en.wikipedia.org/wiki/Love_by_the_Ligh...   \n",
       "2  https://en.wikipedia.org/wiki/The_Martyred_Pre...   \n",
       "3  https://en.wikipedia.org/wiki/Terrible_Teddy,_...   \n",
       "4  https://en.wikipedia.org/wiki/Jack_and_the_Bea...   \n",
       "\n",
       "                                                Plot  \n",
       "0  A bartender is working at a saloon, serving dr...  \n",
       "1  The moon, painted with a smiling face hangs ov...  \n",
       "2  The film, just over a minute long, is composed...  \n",
       "3  Lasting just 61 seconds and consisting of two ...  \n",
       "4  The earliest known adaptation of the classic f...  "
      ]
     },
     "execution_count": 4,
     "metadata": {},
     "output_type": "execute_result"
    }
   ],
   "source": [
    "df.head(5)"
   ]
  },
  {
   "cell_type": "code",
   "execution_count": 5,
   "id": "c3666ee5",
   "metadata": {},
   "outputs": [],
   "source": [
    "#приводим к нижнему регистру\n",
    "\n",
    "df['Genre_1'] = df['Genre'].str.lower()\n",
    "df['Plot'] = df['Plot'].str.lower()"
   ]
  },
  {
   "cell_type": "code",
   "execution_count": 6,
   "id": "b2f5c70b",
   "metadata": {},
   "outputs": [
    {
     "data": {
      "text/plain": [
       "unknown                          6083\n",
       "drama                            5964\n",
       "comedy                           4379\n",
       "horror                           1167\n",
       "action                           1098\n",
       "                                 ... \n",
       "cbc-tv miniseries                   1\n",
       "bio-drama                           1\n",
       "national film board docudrama       1\n",
       "cult drama                          1\n",
       "horror romantic comedy              1\n",
       "Name: Genre_1, Length: 2265, dtype: int64"
      ]
     },
     "execution_count": 6,
     "metadata": {},
     "output_type": "execute_result"
    }
   ],
   "source": [
    "# количество фильмов по жанрам\n",
    "df['Genre_1'].value_counts()"
   ]
  },
  {
   "cell_type": "code",
   "execution_count": 7,
   "id": "76e68646",
   "metadata": {},
   "outputs": [],
   "source": [
    "# в датасете 2265 жанров, необходимо преобразовать данные для предсказания жанров\n",
    "# тестирую на копии df\n",
    "\n",
    "df_copy = df.copy()"
   ]
  },
  {
   "cell_type": "code",
   "execution_count": 8,
   "id": "8d2cf0ab",
   "metadata": {},
   "outputs": [],
   "source": [
    "#преобразуем данные,чтобы разбить жанры по словам\n",
    "\n",
    "df_copy['Genre_2']=df_copy['Genre_1'].str.replace(',', '/')\n",
    "df_copy['Genre_2']=df_copy['Genre_2'].str.replace(' / ', '/')\n",
    "df_copy['Genre_2']=df_copy['Genre_2'].str.replace('/ ', '/')\n",
    "df_copy['Genre_2']=df_copy['Genre_2'].str.replace(' /', '/')\n",
    "df_copy['Genre_2']=df_copy['Genre_2'].str.replace(' ', '/')\n",
    "df_copy['Genre_2']=df_copy['Genre_2'].str.replace('/&/', '/')\n",
    "df_copy['Genre_2']=df_copy['Genre_2'].str.replace('/-/', '/')\n",
    "df_copy['Genre_2']=df_copy['Genre_2'].str.replace('sci-fi', 'sci_fi')\n",
    "df_copy['Genre_2']=df_copy['Genre_2'].str.replace('bio-pic', 'biopic')\n",
    "df_copy['Genre_2']=df_copy['Genre_2'].str.replace('-', '/')"
   ]
  },
  {
   "cell_type": "code",
   "execution_count": 9,
   "id": "a30456dc",
   "metadata": {},
   "outputs": [
    {
     "data": {
      "text/html": [
       "<div>\n",
       "<style scoped>\n",
       "    .dataframe tbody tr th:only-of-type {\n",
       "        vertical-align: middle;\n",
       "    }\n",
       "\n",
       "    .dataframe tbody tr th {\n",
       "        vertical-align: top;\n",
       "    }\n",
       "\n",
       "    .dataframe thead th {\n",
       "        text-align: right;\n",
       "    }\n",
       "</style>\n",
       "<table border=\"1\" class=\"dataframe\">\n",
       "  <thead>\n",
       "    <tr style=\"text-align: right;\">\n",
       "      <th></th>\n",
       "      <th>Release Year</th>\n",
       "      <th>Title</th>\n",
       "      <th>Origin/Ethnicity</th>\n",
       "      <th>Director</th>\n",
       "      <th>Cast</th>\n",
       "      <th>Genre</th>\n",
       "      <th>Wiki Page</th>\n",
       "      <th>Plot</th>\n",
       "      <th>Genre_1</th>\n",
       "      <th>Genre_2</th>\n",
       "    </tr>\n",
       "  </thead>\n",
       "  <tbody>\n",
       "    <tr>\n",
       "      <th>8443</th>\n",
       "      <td>1969</td>\n",
       "      <td>Goodbye, Columbus</td>\n",
       "      <td>American</td>\n",
       "      <td>Larry Peerce</td>\n",
       "      <td>Richard Benjamin, Ali MacGraw, Jack Klugman</td>\n",
       "      <td>romance</td>\n",
       "      <td>https://en.wikipedia.org/wiki/Goodbye,_Columbu...</td>\n",
       "      <td>neil klugman (richard benjamin) is an intellig...</td>\n",
       "      <td>romance</td>\n",
       "      <td>romance</td>\n",
       "    </tr>\n",
       "    <tr>\n",
       "      <th>26621</th>\n",
       "      <td>2010</td>\n",
       "      <td>The Waiting Room</td>\n",
       "      <td>Bollywood</td>\n",
       "      <td>Maneej Premnath</td>\n",
       "      <td>Raj Singh Chaudhary, Radhika Apte</td>\n",
       "      <td>thriller</td>\n",
       "      <td>https://en.wikipedia.org/wiki/The_Waiting_Room...</td>\n",
       "      <td>the story of the waiting room takes place in t...</td>\n",
       "      <td>thriller</td>\n",
       "      <td>thriller</td>\n",
       "    </tr>\n",
       "    <tr>\n",
       "      <th>30610</th>\n",
       "      <td>2005</td>\n",
       "      <td>Aayudham</td>\n",
       "      <td>Tamil</td>\n",
       "      <td>M. A. Murugesh</td>\n",
       "      <td>Prashanth, Sneha</td>\n",
       "      <td>action</td>\n",
       "      <td>https://en.wikipedia.org/wiki/Aayudham_(2005_f...</td>\n",
       "      <td>shiva is a middle-class medical student in che...</td>\n",
       "      <td>action</td>\n",
       "      <td>action</td>\n",
       "    </tr>\n",
       "    <tr>\n",
       "      <th>30357</th>\n",
       "      <td>2000</td>\n",
       "      <td>Kakkai Siraginilae</td>\n",
       "      <td>Tamil</td>\n",
       "      <td>P. Vasu</td>\n",
       "      <td>Parthiban, Preetha Vijayakumar, Lakshmi, K. Vi...</td>\n",
       "      <td>unknown</td>\n",
       "      <td>https://en.wikipedia.org/wiki/Kakkai_Siraginilae</td>\n",
       "      <td>vellisamy (parthiban) is an orphan who was bro...</td>\n",
       "      <td>unknown</td>\n",
       "      <td>unknown</td>\n",
       "    </tr>\n",
       "    <tr>\n",
       "      <th>26095</th>\n",
       "      <td>2001</td>\n",
       "      <td>Kasoor</td>\n",
       "      <td>Bollywood</td>\n",
       "      <td>Vikram Bhatt</td>\n",
       "      <td>Lisa Ray, Aftab Shivdasani, Divya Dutta</td>\n",
       "      <td>thriller</td>\n",
       "      <td>https://en.wikipedia.org/wiki/Kasoor</td>\n",
       "      <td>the film starts with the murder of priti, wife...</td>\n",
       "      <td>thriller</td>\n",
       "      <td>thriller</td>\n",
       "    </tr>\n",
       "  </tbody>\n",
       "</table>\n",
       "</div>"
      ],
      "text/plain": [
       "       Release Year               Title Origin/Ethnicity         Director  \\\n",
       "8443           1969   Goodbye, Columbus         American     Larry Peerce   \n",
       "26621          2010    The Waiting Room        Bollywood  Maneej Premnath   \n",
       "30610          2005            Aayudham            Tamil   M. A. Murugesh   \n",
       "30357          2000  Kakkai Siraginilae            Tamil          P. Vasu   \n",
       "26095          2001              Kasoor        Bollywood     Vikram Bhatt   \n",
       "\n",
       "                                                    Cast     Genre  \\\n",
       "8443         Richard Benjamin, Ali MacGraw, Jack Klugman   romance   \n",
       "26621                  Raj Singh Chaudhary, Radhika Apte  thriller   \n",
       "30610                                   Prashanth, Sneha    action   \n",
       "30357  Parthiban, Preetha Vijayakumar, Lakshmi, K. Vi...   unknown   \n",
       "26095            Lisa Ray, Aftab Shivdasani, Divya Dutta  thriller   \n",
       "\n",
       "                                               Wiki Page  \\\n",
       "8443   https://en.wikipedia.org/wiki/Goodbye,_Columbu...   \n",
       "26621  https://en.wikipedia.org/wiki/The_Waiting_Room...   \n",
       "30610  https://en.wikipedia.org/wiki/Aayudham_(2005_f...   \n",
       "30357   https://en.wikipedia.org/wiki/Kakkai_Siraginilae   \n",
       "26095               https://en.wikipedia.org/wiki/Kasoor   \n",
       "\n",
       "                                                    Plot   Genre_1   Genre_2  \n",
       "8443   neil klugman (richard benjamin) is an intellig...   romance   romance  \n",
       "26621  the story of the waiting room takes place in t...  thriller  thriller  \n",
       "30610  shiva is a middle-class medical student in che...    action    action  \n",
       "30357  vellisamy (parthiban) is an orphan who was bro...   unknown   unknown  \n",
       "26095  the film starts with the murder of priti, wife...  thriller  thriller  "
      ]
     },
     "execution_count": 9,
     "metadata": {},
     "output_type": "execute_result"
    }
   ],
   "source": [
    "df_copy.sample(5)"
   ]
  },
  {
   "cell_type": "code",
   "execution_count": 10,
   "id": "c74b1b25",
   "metadata": {},
   "outputs": [
    {
     "data": {
      "text/html": [
       "<div>\n",
       "<style scoped>\n",
       "    .dataframe tbody tr th:only-of-type {\n",
       "        vertical-align: middle;\n",
       "    }\n",
       "\n",
       "    .dataframe tbody tr th {\n",
       "        vertical-align: top;\n",
       "    }\n",
       "\n",
       "    .dataframe thead th {\n",
       "        text-align: right;\n",
       "    }\n",
       "</style>\n",
       "<table border=\"1\" class=\"dataframe\">\n",
       "  <thead>\n",
       "    <tr style=\"text-align: right;\">\n",
       "      <th></th>\n",
       "      <th>0</th>\n",
       "      <th>1</th>\n",
       "      <th>2</th>\n",
       "      <th>3</th>\n",
       "      <th>4</th>\n",
       "      <th>5</th>\n",
       "      <th>6</th>\n",
       "      <th>7</th>\n",
       "      <th>8</th>\n",
       "      <th>9</th>\n",
       "      <th>10</th>\n",
       "      <th>11</th>\n",
       "      <th>12</th>\n",
       "    </tr>\n",
       "  </thead>\n",
       "  <tbody>\n",
       "    <tr>\n",
       "      <th>4750</th>\n",
       "      <td>comedy</td>\n",
       "      <td>None</td>\n",
       "      <td>None</td>\n",
       "      <td>None</td>\n",
       "      <td>None</td>\n",
       "      <td>None</td>\n",
       "      <td>None</td>\n",
       "      <td>None</td>\n",
       "      <td>None</td>\n",
       "      <td>None</td>\n",
       "      <td>None</td>\n",
       "      <td>None</td>\n",
       "      <td>None</td>\n",
       "    </tr>\n",
       "    <tr>\n",
       "      <th>15132</th>\n",
       "      <td>adventure</td>\n",
       "      <td>comedy</td>\n",
       "      <td>drama</td>\n",
       "      <td>family</td>\n",
       "      <td>None</td>\n",
       "      <td>None</td>\n",
       "      <td>None</td>\n",
       "      <td>None</td>\n",
       "      <td>None</td>\n",
       "      <td>None</td>\n",
       "      <td>None</td>\n",
       "      <td>None</td>\n",
       "      <td>None</td>\n",
       "    </tr>\n",
       "    <tr>\n",
       "      <th>17980</th>\n",
       "      <td>drama</td>\n",
       "      <td>romance</td>\n",
       "      <td></td>\n",
       "      <td>None</td>\n",
       "      <td>None</td>\n",
       "      <td>None</td>\n",
       "      <td>None</td>\n",
       "      <td>None</td>\n",
       "      <td>None</td>\n",
       "      <td>None</td>\n",
       "      <td>None</td>\n",
       "      <td>None</td>\n",
       "      <td>None</td>\n",
       "    </tr>\n",
       "    <tr>\n",
       "      <th>11984</th>\n",
       "      <td>adventure</td>\n",
       "      <td>None</td>\n",
       "      <td>None</td>\n",
       "      <td>None</td>\n",
       "      <td>None</td>\n",
       "      <td>None</td>\n",
       "      <td>None</td>\n",
       "      <td>None</td>\n",
       "      <td>None</td>\n",
       "      <td>None</td>\n",
       "      <td>None</td>\n",
       "      <td>None</td>\n",
       "      <td>None</td>\n",
       "    </tr>\n",
       "    <tr>\n",
       "      <th>2028</th>\n",
       "      <td>comedy</td>\n",
       "      <td>None</td>\n",
       "      <td>None</td>\n",
       "      <td>None</td>\n",
       "      <td>None</td>\n",
       "      <td>None</td>\n",
       "      <td>None</td>\n",
       "      <td>None</td>\n",
       "      <td>None</td>\n",
       "      <td>None</td>\n",
       "      <td>None</td>\n",
       "      <td>None</td>\n",
       "      <td>None</td>\n",
       "    </tr>\n",
       "  </tbody>\n",
       "</table>\n",
       "</div>"
      ],
      "text/plain": [
       "              0        1      2       3     4     5     6     7     8     9   \\\n",
       "4750      comedy     None   None    None  None  None  None  None  None  None   \n",
       "15132  adventure   comedy  drama  family  None  None  None  None  None  None   \n",
       "17980      drama  romance           None  None  None  None  None  None  None   \n",
       "11984  adventure     None   None    None  None  None  None  None  None  None   \n",
       "2028      comedy     None   None    None  None  None  None  None  None  None   \n",
       "\n",
       "         10    11    12  \n",
       "4750   None  None  None  \n",
       "15132  None  None  None  \n",
       "17980  None  None  None  \n",
       "11984  None  None  None  \n",
       "2028   None  None  None  "
      ]
     },
     "execution_count": 10,
     "metadata": {},
     "output_type": "execute_result"
    }
   ],
   "source": [
    "# создаем df жанрами, разделенными по столбцам\n",
    "new_df = df_copy['Genre_2'].str.split('/', expand=True)\n",
    "new_df.sample(5)"
   ]
  },
  {
   "cell_type": "code",
   "execution_count": 19,
   "id": "727a04b2",
   "metadata": {},
   "outputs": [],
   "source": [
    "#new_df.to_excel('new_df.xlsx')"
   ]
  },
  {
   "cell_type": "code",
   "execution_count": 11,
   "id": "3dbe0bb9",
   "metadata": {},
   "outputs": [],
   "source": [
    "#добавляем первое слово жанра к df_copy (при перечислении жанров обычно основной указывается вначале)\n",
    "df_copy['Genre_1st_word']=new_df[0]"
   ]
  },
  {
   "cell_type": "code",
   "execution_count": 12,
   "id": "4ddbd6f0",
   "metadata": {},
   "outputs": [],
   "source": [
    "#создадим словарь для обработки df_copy['Origin/Ethnicity']\n",
    "\n",
    "dict_orig ={\n",
    "    'American': 'American', 'British': 'British', 'Bollywood': 'Indian', \n",
    "    'Tamil': 'Indian', 'Telugu': 'Indian', 'Japanese': 'Asian', 'Malayalam': 'Indian',\n",
    "    'Hong Kong': 'Asian', 'Canadian': 'Canadian', 'Australian': 'Australian', 'South_Korean': 'Asian',\n",
    "    'Chinese': 'Asian', 'Kannada': 'Indian', 'Bengali': 'Indian', 'Russian': 'Russian', 'Marathi': 'Indian',\n",
    "    'Filipino': 'Asian', 'Bangladeshi': 'Asian', 'Punjabi': 'Indian', 'Malaysian': 'Asian', 'Turkish':'Turkish',\n",
    "    'Egyptian': 'Egyptian', 'Assamese': 'Indian', 'Maldivian': 'Asian'\n",
    "}"
   ]
  },
  {
   "cell_type": "code",
   "execution_count": 13,
   "id": "1fc2c923",
   "metadata": {},
   "outputs": [],
   "source": [
    "#добавим в df_copy столбец с регионом происхождения\n",
    "df_copy['Origin'] = df_copy['Origin/Ethnicity'].map(dict_orig)"
   ]
  },
  {
   "cell_type": "code",
   "execution_count": 14,
   "id": "6058b651",
   "metadata": {},
   "outputs": [],
   "source": [
    "# произведем некоторые замены в df_copy['Genre_1st_word']\n",
    "df_copy['Genre_1st_word']=df_copy['Genre_1st_word'].str.replace('film', 'film_noir')\n",
    "df_copy['Genre_1st_word']=df_copy['Genre_1st_word'].str.replace('romantic', 'romance')\n",
    "df_copy['Genre_1st_word']=df_copy['Genre_1st_word'].str.replace('animation', 'animated')"
   ]
  },
  {
   "cell_type": "code",
   "execution_count": 15,
   "id": "3837f265",
   "metadata": {},
   "outputs": [],
   "source": [
    "#добавим столбец с количеством фильмов по жаннру\n",
    "df_copy['n_films_by_genre']= df_copy.Genre_1st_word.map(df_copy['Genre_1st_word'].value_counts())"
   ]
  },
  {
   "cell_type": "code",
   "execution_count": 16,
   "id": "0374e94f",
   "metadata": {},
   "outputs": [],
   "source": [
    "#приводим к нижнему регистру df_copy['Plot']\n",
    "df_copy['Plot'] = df_copy['Plot'].str.lower()"
   ]
  },
  {
   "cell_type": "code",
   "execution_count": 17,
   "id": "6668be30",
   "metadata": {},
   "outputs": [
    {
     "name": "stderr",
     "output_type": "stream",
     "text": [
      "C:\\Users\\User\\AppData\\Local\\Temp\\ipykernel_8040\\3468545993.py:2: FutureWarning: The default value of regex will change from True to False in a future version.\n",
      "  df_copy['Plot'] = df['Plot'].str.replace('[^\\w\\s]','')\n"
     ]
    }
   ],
   "source": [
    "#удаляем знаки препинания\n",
    "df_copy['Plot'] = df['Plot'].str.replace('[^\\w\\s]','')"
   ]
  },
  {
   "cell_type": "code",
   "execution_count": 18,
   "id": "3545b217",
   "metadata": {},
   "outputs": [
    {
     "data": {
      "text/plain": [
       "drama            6888\n",
       "unknown          6083\n",
       "comedy           5638\n",
       "action           2072\n",
       "romance          1944\n",
       "                 ... \n",
       "physiological       1\n",
       "romance;            1\n",
       "tapas               1\n",
       "outlaw              1\n",
       "travel              1\n",
       "Name: Genre_1st_word, Length: 334, dtype: int64"
      ]
     },
     "execution_count": 18,
     "metadata": {},
     "output_type": "execute_result"
    }
   ],
   "source": [
    "#жанров после обработки осталось 334\n",
    "df_copy['Genre_1st_word'].value_counts()"
   ]
  },
  {
   "cell_type": "code",
   "execution_count": 19,
   "id": "d23f35a2",
   "metadata": {},
   "outputs": [],
   "source": [
    "# модели будем строить на df_copy3, попробуем обработать срез df с количсетвом жанров > 400\n",
    "df_copy3 = df_copy[df_copy['n_films_by_genre'] > 400]"
   ]
  },
  {
   "cell_type": "code",
   "execution_count": 20,
   "id": "f2de9b86",
   "metadata": {},
   "outputs": [],
   "source": [
    "#удалим 'unknown' жанр\n",
    "df_copy3 = df_copy3[df_copy3['Genre_1st_word'] != 'unknown']"
   ]
  },
  {
   "cell_type": "code",
   "execution_count": 21,
   "id": "4f2777d5",
   "metadata": {},
   "outputs": [
    {
     "data": {
      "text/plain": [
       "Index(['Release Year', 'Title', 'Origin/Ethnicity', 'Director', 'Cast',\n",
       "       'Genre', 'Wiki Page', 'Plot', 'Genre_1', 'Genre_2', 'Genre_1st_word',\n",
       "       'Origin', 'n_films_by_genre'],\n",
       "      dtype='object')"
      ]
     },
     "execution_count": 21,
     "metadata": {},
     "output_type": "execute_result"
    }
   ],
   "source": [
    "df_copy3.columns"
   ]
  },
  {
   "cell_type": "code",
   "execution_count": 22,
   "id": "4548ee6f",
   "metadata": {},
   "outputs": [],
   "source": [
    "#удалим ненужные колонки\n",
    "df_copy3 = df_copy3.drop(['Release Year', 'Origin/Ethnicity',\n",
    "                              'Director', 'Cast', 'Wiki Page',\n",
    "                              'Genre_1', 'Genre_2', 'n_films_by_genre'\n",
    "                             ], axis=1)"
   ]
  },
  {
   "cell_type": "code",
   "execution_count": 23,
   "id": "c9fa0ce3",
   "metadata": {},
   "outputs": [
    {
     "data": {
      "text/plain": [
       "Index(['Title', 'Genre', 'Plot', 'Genre_1st_word', 'Origin'], dtype='object')"
      ]
     },
     "execution_count": 23,
     "metadata": {},
     "output_type": "execute_result"
    }
   ],
   "source": [
    "#проверим\n",
    "df_copy3.columns"
   ]
  },
  {
   "cell_type": "code",
   "execution_count": 120,
   "id": "23a53b45",
   "metadata": {},
   "outputs": [
    {
     "data": {
      "text/plain": [
       "drama        6888\n",
       "comedy       5638\n",
       "action       2072\n",
       "romance      1944\n",
       "horror       1391\n",
       "crime        1278\n",
       "thriller     1061\n",
       "western       924\n",
       "animated      714\n",
       "musical       708\n",
       "adventure     610\n",
       "science       495\n",
       "war           408\n",
       "family        402\n",
       "Name: Genre_1st_word, dtype: int64"
      ]
     },
     "execution_count": 120,
     "metadata": {},
     "output_type": "execute_result"
    }
   ],
   "source": [
    "df_copy3['Genre_1st_word'].value_counts()"
   ]
  },
  {
   "cell_type": "code",
   "execution_count": 25,
   "id": "9a1d8f26",
   "metadata": {},
   "outputs": [
    {
     "data": {
      "text/plain": [
       "American      14814\n",
       "Indian         4507\n",
       "British        2539\n",
       "Asian          1479\n",
       "Canadian        555\n",
       "Australian      394\n",
       "Russian         124\n",
       "Egyptian         63\n",
       "Turkish          58\n",
       "Name: Origin, dtype: int64"
      ]
     },
     "execution_count": 25,
     "metadata": {},
     "output_type": "execute_result"
    }
   ],
   "source": [
    "df_copy3['Origin'].value_counts()"
   ]
  },
  {
   "cell_type": "markdown",
   "id": "710a3405",
   "metadata": {},
   "source": [
    "# Предсказание жанра и региона фильма по краткому сценарию"
   ]
  },
  {
   "cell_type": "markdown",
   "id": "91ecea78",
   "metadata": {},
   "source": [
    "# используем методы из модуля ML "
   ]
  },
  {
   "cell_type": "code",
   "execution_count": 27,
   "id": "128162f7",
   "metadata": {},
   "outputs": [],
   "source": [
    "from sklearn.model_selection import train_test_split\n",
    "from sklearn.preprocessing import LabelEncoder\n",
    "from sklearn.metrics import f1_score\n",
    "from nltk.corpus import stopwords\n",
    "from sklearn.feature_extraction.text import TfidfVectorizer\n",
    "import nltk\n",
    "from sklearn import tree"
   ]
  },
  {
   "cell_type": "code",
   "execution_count": 28,
   "id": "610dddac",
   "metadata": {},
   "outputs": [],
   "source": [
    "RANDOM_STATE = 42"
   ]
  },
  {
   "cell_type": "markdown",
   "id": "8ba9ca78",
   "metadata": {},
   "source": [
    "# Предсказываем жанр"
   ]
  },
  {
   "cell_type": "code",
   "execution_count": 29,
   "id": "7a762065",
   "metadata": {},
   "outputs": [],
   "source": [
    "text_transformer = TfidfVectorizer(stop_words='english', \n",
    "                                   ngram_range=(1,1), \n",
    "                                   lowercase=True)\n",
    "text = text_transformer.fit_transform(df_copy3['Plot'])\n",
    "X_train, X_test, y_train, y_test = train_test_split(text, df_copy3['Genre_1st_word'], test_size=0.2, random_state=RANDOM_STATE)"
   ]
  },
  {
   "cell_type": "code",
   "execution_count": 30,
   "id": "60116f70",
   "metadata": {},
   "outputs": [
    {
     "data": {
      "text/plain": [
       "(19626, 145905)"
      ]
     },
     "execution_count": 30,
     "metadata": {},
     "output_type": "execute_result"
    }
   ],
   "source": [
    "X_train.shape"
   ]
  },
  {
   "cell_type": "code",
   "execution_count": 31,
   "id": "3247ec73",
   "metadata": {},
   "outputs": [
    {
     "data": {
      "text/plain": [
       "DecisionTreeClassifier()"
      ]
     },
     "execution_count": 31,
     "metadata": {},
     "output_type": "execute_result"
    }
   ],
   "source": [
    "clf2 = tree.DecisionTreeClassifier()\n",
    "clf2.fit(X_train,y_train)"
   ]
  },
  {
   "cell_type": "code",
   "execution_count": 34,
   "id": "2bc9bfd4",
   "metadata": {},
   "outputs": [
    {
     "name": "stdout",
     "output_type": "stream",
     "text": [
      "Качество модели по метрике F1 0.31119034479764335\n",
      "CPU times: total: 62.5 ms\n",
      "Wall time: 67 ms\n"
     ]
    }
   ],
   "source": [
    "%%time\n",
    "pred2 = clf2.predict(X_test)\n",
    "print('Качество модели по метрике F1', f1_score(y_test, pred2, average='weighted'))"
   ]
  },
  {
   "cell_type": "code",
   "execution_count": null,
   "id": "f60f173a",
   "metadata": {},
   "outputs": [],
   "source": [
    "#проверим, влияет ли набор 'stopwords' на качество модели"
   ]
  },
  {
   "cell_type": "code",
   "execution_count": 35,
   "id": "d06702cf",
   "metadata": {},
   "outputs": [
    {
     "name": "stderr",
     "output_type": "stream",
     "text": [
      "[nltk_data] Downloading package stopwords to\n",
      "[nltk_data]     C:\\Users\\User\\AppData\\Roaming\\nltk_data...\n",
      "[nltk_data]   Package stopwords is already up-to-date!\n"
     ]
    },
    {
     "data": {
      "text/plain": [
       "True"
      ]
     },
     "execution_count": 35,
     "metadata": {},
     "output_type": "execute_result"
    }
   ],
   "source": [
    "nltk.download('stopwords')"
   ]
  },
  {
   "cell_type": "code",
   "execution_count": 36,
   "id": "2e089c96",
   "metadata": {},
   "outputs": [],
   "source": [
    "stop_eng = stopwords.words('english')"
   ]
  },
  {
   "cell_type": "code",
   "execution_count": 38,
   "id": "33c422f1",
   "metadata": {},
   "outputs": [],
   "source": [
    "text_transformer = TfidfVectorizer(stop_words=stop_eng, \n",
    "                                   ngram_range=(1,1), \n",
    "                                   lowercase=True)\n",
    "text = text_transformer.fit_transform(df_copy3['Plot'])\n",
    "X_train, X_test, y_train, y_test = train_test_split(text, df_copy3['Genre_1st_word'], test_size=0.2, random_state=RANDOM_STATE)"
   ]
  },
  {
   "cell_type": "code",
   "execution_count": 39,
   "id": "06863f0b",
   "metadata": {},
   "outputs": [
    {
     "data": {
      "text/plain": [
       "DecisionTreeClassifier()"
      ]
     },
     "execution_count": 39,
     "metadata": {},
     "output_type": "execute_result"
    }
   ],
   "source": [
    "clf2 = tree.DecisionTreeClassifier()\n",
    "clf2.fit(X_train,y_train)"
   ]
  },
  {
   "cell_type": "code",
   "execution_count": 40,
   "id": "4d5c18d4",
   "metadata": {},
   "outputs": [
    {
     "name": "stdout",
     "output_type": "stream",
     "text": [
      "Качество модели по метрике F1 0.3079334863587056\n",
      "CPU times: total: 125 ms\n",
      "Wall time: 116 ms\n"
     ]
    }
   ],
   "source": [
    "%%time\n",
    "pred2 = clf2.predict(X_test)\n",
    "print('Качество модели по метрике F1', f1_score(y_test, pred2, average='weighted'))"
   ]
  },
  {
   "cell_type": "code",
   "execution_count": 41,
   "id": "0df9a748",
   "metadata": {},
   "outputs": [],
   "source": [
    "# вывод  -можно использовать базовый набор \"stop_words='english\""
   ]
  },
  {
   "cell_type": "markdown",
   "id": "8ecb4bf8",
   "metadata": {},
   "source": [
    "# Предсказываем регион"
   ]
  },
  {
   "cell_type": "code",
   "execution_count": 43,
   "id": "6ee1cfbe",
   "metadata": {},
   "outputs": [],
   "source": [
    "df_copy4 = df_copy.copy()"
   ]
  },
  {
   "cell_type": "code",
   "execution_count": 45,
   "id": "d1999447",
   "metadata": {},
   "outputs": [],
   "source": [
    "#удалим ненужные колонки\n",
    "df_copy4 = df_copy4.drop(['Release Year', 'Origin/Ethnicity',\n",
    "                              'Director', 'Cast', 'Wiki Page',\n",
    "                              'Genre_1', 'Genre_2', 'n_films_by_genre'\n",
    "                             ], axis=1)"
   ]
  },
  {
   "cell_type": "code",
   "execution_count": 46,
   "id": "8a0b00f9",
   "metadata": {},
   "outputs": [
    {
     "data": {
      "text/plain": [
       "Index(['Title', 'Genre', 'Plot', 'Genre_1st_word', 'Origin'], dtype='object')"
      ]
     },
     "execution_count": 46,
     "metadata": {},
     "output_type": "execute_result"
    }
   ],
   "source": [
    "df_copy4.columns"
   ]
  },
  {
   "cell_type": "code",
   "execution_count": 48,
   "id": "7d3dc9a9",
   "metadata": {},
   "outputs": [],
   "source": [
    "text_transformer = TfidfVectorizer(stop_words='english', \n",
    "                                   ngram_range=(1,1), \n",
    "                                   lowercase=True)\n",
    "text = text_transformer.fit_transform(df_copy4['Plot'])\n",
    "X_train, X_test, y_train, y_test = train_test_split(text, df_copy4['Origin'], test_size=0.2, random_state=RANDOM_STATE)"
   ]
  },
  {
   "cell_type": "code",
   "execution_count": 49,
   "id": "5bac34d0",
   "metadata": {},
   "outputs": [
    {
     "data": {
      "text/plain": [
       "DecisionTreeClassifier()"
      ]
     },
     "execution_count": 49,
     "metadata": {},
     "output_type": "execute_result"
    }
   ],
   "source": [
    "clf2 = tree.DecisionTreeClassifier()\n",
    "clf2.fit(X_train,y_train)"
   ]
  },
  {
   "cell_type": "code",
   "execution_count": 50,
   "id": "f13ddaf0",
   "metadata": {},
   "outputs": [
    {
     "name": "stdout",
     "output_type": "stream",
     "text": [
      "Качество модели по метрике F1 0.6335158219958275\n",
      "CPU times: total: 125 ms\n",
      "Wall time: 139 ms\n"
     ]
    }
   ],
   "source": [
    "%%time\n",
    "pred2 = clf2.predict(X_test)\n",
    "print('Качество модели по метрике F1', f1_score(y_test, pred2, average='weighted'))"
   ]
  },
  {
   "cell_type": "markdown",
   "id": "ab3f2e18",
   "metadata": {},
   "source": [
    "# Пробуем другой способ\n",
    "https://medium.com/analytics-vidhya/predicting-movie-genres-using-nlp-46d70b97c67d"
   ]
  },
  {
   "cell_type": "markdown",
   "id": "a89a6e9d",
   "metadata": {},
   "source": [
    "# Предсказываем жанр"
   ]
  },
  {
   "cell_type": "code",
   "execution_count": 108,
   "id": "8cf370d0",
   "metadata": {},
   "outputs": [],
   "source": [
    "from sklearn.preprocessing import MultiLabelBinarizer\n",
    "\n",
    "multilabel_binarizer = MultiLabelBinarizer()\n",
    "multilabel_binarizer.fit(df_copy3['Genre_1st_word'])\n",
    "\n",
    "# transform target variable\n",
    "y = multilabel_binarizer.transform(df_copy3['Genre_1st_word'])"
   ]
  },
  {
   "cell_type": "code",
   "execution_count": 109,
   "id": "d9e34ab8",
   "metadata": {},
   "outputs": [],
   "source": [
    "tfidf_vectorizer = TfidfVectorizer(max_df=0.8, max_features=10000)"
   ]
  },
  {
   "cell_type": "code",
   "execution_count": 110,
   "id": "78b1682b",
   "metadata": {},
   "outputs": [],
   "source": [
    "# split dataset into training and validation set\n",
    "xtrain, xval, ytrain, yval = train_test_split(df_copy3['Plot'], y, test_size=0.2, random_state=RANDOM_STATE)"
   ]
  },
  {
   "cell_type": "code",
   "execution_count": 111,
   "id": "3857053a",
   "metadata": {},
   "outputs": [],
   "source": [
    "# create TF-IDF features \n",
    "xtrain_tfidf = tfidf_vectorizer.fit_transform(xtrain) \n",
    "xval_tfidf = tfidf_vectorizer.transform(xval)"
   ]
  },
  {
   "cell_type": "code",
   "execution_count": 112,
   "id": "e0811f81",
   "metadata": {},
   "outputs": [],
   "source": [
    "from sklearn.linear_model import LogisticRegression \n",
    "# Binary Relevance \n",
    "from sklearn.multiclass import OneVsRestClassifier \n",
    "# Performance metric \n",
    "from sklearn.metrics import f1_score"
   ]
  },
  {
   "cell_type": "code",
   "execution_count": 113,
   "id": "418590b3",
   "metadata": {},
   "outputs": [],
   "source": [
    "lr = LogisticRegression() \n",
    "clf = OneVsRestClassifier(lr)"
   ]
  },
  {
   "cell_type": "code",
   "execution_count": 114,
   "id": "014e51ef",
   "metadata": {},
   "outputs": [
    {
     "name": "stderr",
     "output_type": "stream",
     "text": [
      "C:\\Users\\User\\anaconda3\\lib\\site-packages\\sklearn\\linear_model\\_logistic.py:814: ConvergenceWarning: lbfgs failed to converge (status=1):\n",
      "STOP: TOTAL NO. of ITERATIONS REACHED LIMIT.\n",
      "\n",
      "Increase the number of iterations (max_iter) or scale the data as shown in:\n",
      "    https://scikit-learn.org/stable/modules/preprocessing.html\n",
      "Please also refer to the documentation for alternative solver options:\n",
      "    https://scikit-learn.org/stable/modules/linear_model.html#logistic-regression\n",
      "  n_iter_i = _check_optimize_result(\n"
     ]
    },
    {
     "data": {
      "text/plain": [
       "OneVsRestClassifier(estimator=LogisticRegression())"
      ]
     },
     "execution_count": 114,
     "metadata": {},
     "output_type": "execute_result"
    }
   ],
   "source": [
    "# fit model on train data \n",
    "clf.fit(xtrain_tfidf, ytrain)"
   ]
  },
  {
   "cell_type": "code",
   "execution_count": 115,
   "id": "7b0bb362",
   "metadata": {},
   "outputs": [],
   "source": [
    "# make predictions for validation set \n",
    "y_pred = clf.predict(xval_tfidf)"
   ]
  },
  {
   "cell_type": "code",
   "execution_count": 116,
   "id": "050446a2",
   "metadata": {},
   "outputs": [
    {
     "data": {
      "text/plain": [
       "0.6716026494967324"
      ]
     },
     "execution_count": 116,
     "metadata": {},
     "output_type": "execute_result"
    }
   ],
   "source": [
    "# evaluate performance \n",
    "f1_score(yval, y_pred, average='weighted')"
   ]
  },
  {
   "cell_type": "code",
   "execution_count": 117,
   "id": "74683df1",
   "metadata": {},
   "outputs": [],
   "source": [
    "#Для оценки модели произведем также расчет dummy_grid, F1 должна быть больше dummy_grid \n",
    "\n",
    "from sklearn.dummy import DummyClassifier\n",
    "from sklearn.model_selection import train_test_split, GridSearchCV"
   ]
  },
  {
   "cell_type": "code",
   "execution_count": 121,
   "id": "a8833eaf",
   "metadata": {},
   "outputs": [
    {
     "name": "stdout",
     "output_type": "stream",
     "text": [
      "0.001171935585399963\n"
     ]
    },
    {
     "name": "stderr",
     "output_type": "stream",
     "text": [
      "C:\\Users\\User\\anaconda3\\lib\\site-packages\\sklearn\\model_selection\\_validation.py:372: FitFailedWarning: \n",
      "5 fits failed out of a total of 25.\n",
      "The score on these train-test partitions for these parameters will be set to nan.\n",
      "If these failures are not expected, you can try to debug them by setting error_score='raise'.\n",
      "\n",
      "Below are more details about the failures:\n",
      "--------------------------------------------------------------------------------\n",
      "5 fits failed with the following error:\n",
      "Traceback (most recent call last):\n",
      "  File \"C:\\Users\\User\\anaconda3\\lib\\site-packages\\sklearn\\model_selection\\_validation.py\", line 680, in _fit_and_score\n",
      "    estimator.fit(X_train, y_train, **fit_params)\n",
      "  File \"C:\\Users\\User\\anaconda3\\lib\\site-packages\\sklearn\\dummy.py\", line 205, in fit\n",
      "    raise ValueError(\n",
      "ValueError: Constant target value has to be specified when the constant strategy is used.\n",
      "\n",
      "  warnings.warn(some_fits_failed_message, FitFailedWarning)\n",
      "C:\\Users\\User\\anaconda3\\lib\\site-packages\\sklearn\\model_selection\\_search.py:969: UserWarning: One or more of the test scores are non-finite: [0.         0.00117194 0.         0.                nan]\n",
      "  warnings.warn(\n"
     ]
    }
   ],
   "source": [
    "#Источник: https://github.com/Wonuabimbola/movie-genre-prediction/blob/main/predict_movie_genre_from_plot.ipynb\n",
    "\n",
    "dummy_grid = {\n",
    "    'strategy': ['most_frequent', 'stratified', 'prior', 'uniform', 'constant']\n",
    "}\n",
    "dummy = DummyClassifier(random_state = 42)\n",
    "dummy_gs = GridSearchCV(dummy, param_grid = dummy_grid, cv = 5)\n",
    "dummy_gs.fit(xtrain, ytrain)\n",
    "print(dummy_gs.best_score_)"
   ]
  },
  {
   "cell_type": "markdown",
   "id": "c6f1e830",
   "metadata": {},
   "source": [
    "# Предсказываем регион"
   ]
  },
  {
   "cell_type": "code",
   "execution_count": 97,
   "id": "a44c3b62",
   "metadata": {},
   "outputs": [],
   "source": [
    "multilabel_binarizer = MultiLabelBinarizer()\n",
    "multilabel_binarizer.fit(df_copy3['Origin'])\n",
    "\n",
    "# transform target variable\n",
    "y = multilabel_binarizer.transform(df_copy3['Origin'])"
   ]
  },
  {
   "cell_type": "code",
   "execution_count": 98,
   "id": "b0f877fc",
   "metadata": {},
   "outputs": [],
   "source": [
    "tfidf_vectorizer = TfidfVectorizer(max_df=0.8, max_features=10000)"
   ]
  },
  {
   "cell_type": "code",
   "execution_count": 99,
   "id": "5e1aa3b7",
   "metadata": {},
   "outputs": [],
   "source": [
    "# split dataset into training and validation set\n",
    "xtrain, xval, ytrain, yval = train_test_split(df_copy3['Plot'], y, test_size=0.2, random_state=RANDOM_STATE)"
   ]
  },
  {
   "cell_type": "code",
   "execution_count": 100,
   "id": "971faae6",
   "metadata": {},
   "outputs": [],
   "source": [
    "# create TF-IDF features \n",
    "xtrain_tfidf = tfidf_vectorizer.fit_transform(xtrain) \n",
    "xval_tfidf = tfidf_vectorizer.transform(xval)"
   ]
  },
  {
   "cell_type": "code",
   "execution_count": 101,
   "id": "43f18027",
   "metadata": {},
   "outputs": [],
   "source": [
    "lr = LogisticRegression() \n",
    "clf = OneVsRestClassifier(lr)"
   ]
  },
  {
   "cell_type": "code",
   "execution_count": 102,
   "id": "9dabe8d9",
   "metadata": {},
   "outputs": [
    {
     "name": "stderr",
     "output_type": "stream",
     "text": [
      "C:\\Users\\User\\anaconda3\\lib\\site-packages\\sklearn\\multiclass.py:79: UserWarning: Label 13 is present in all training examples.\n",
      "  warnings.warn(\n"
     ]
    },
    {
     "data": {
      "text/plain": [
       "OneVsRestClassifier(estimator=LogisticRegression())"
      ]
     },
     "execution_count": 102,
     "metadata": {},
     "output_type": "execute_result"
    }
   ],
   "source": [
    "# fit model on train data \n",
    "clf.fit(xtrain_tfidf, ytrain)"
   ]
  },
  {
   "cell_type": "code",
   "execution_count": 103,
   "id": "c387c947",
   "metadata": {},
   "outputs": [],
   "source": [
    "# make predictions for validation set \n",
    "y_pred = clf.predict(xval_tfidf)"
   ]
  },
  {
   "cell_type": "code",
   "execution_count": 104,
   "id": "68b99565",
   "metadata": {},
   "outputs": [
    {
     "data": {
      "text/plain": [
       "0.8736109259730847"
      ]
     },
     "execution_count": 104,
     "metadata": {},
     "output_type": "execute_result"
    }
   ],
   "source": [
    "# evaluate performance \n",
    "f1_score(yval, y_pred, average='weighted')"
   ]
  },
  {
   "cell_type": "code",
   "execution_count": 105,
   "id": "05569119",
   "metadata": {},
   "outputs": [],
   "source": [
    "#Для оценки модели произведем также расчет dummy_grid, F1 должна быть больше dummy_grid \n",
    "\n",
    "from sklearn.dummy import DummyClassifier\n",
    "from sklearn.model_selection import train_test_split, GridSearchCV"
   ]
  },
  {
   "cell_type": "code",
   "execution_count": 107,
   "id": "47b094e2",
   "metadata": {},
   "outputs": [
    {
     "name": "stdout",
     "output_type": "stream",
     "text": [
      "0.6046058320976277\n"
     ]
    },
    {
     "name": "stderr",
     "output_type": "stream",
     "text": [
      "C:\\Users\\User\\anaconda3\\lib\\site-packages\\sklearn\\model_selection\\_validation.py:372: FitFailedWarning: \n",
      "5 fits failed out of a total of 25.\n",
      "The score on these train-test partitions for these parameters will be set to nan.\n",
      "If these failures are not expected, you can try to debug them by setting error_score='raise'.\n",
      "\n",
      "Below are more details about the failures:\n",
      "--------------------------------------------------------------------------------\n",
      "5 fits failed with the following error:\n",
      "Traceback (most recent call last):\n",
      "  File \"C:\\Users\\User\\anaconda3\\lib\\site-packages\\sklearn\\model_selection\\_validation.py\", line 680, in _fit_and_score\n",
      "    estimator.fit(X_train, y_train, **fit_params)\n",
      "  File \"C:\\Users\\User\\anaconda3\\lib\\site-packages\\sklearn\\dummy.py\", line 205, in fit\n",
      "    raise ValueError(\n",
      "ValueError: Constant target value has to be specified when the constant strategy is used.\n",
      "\n",
      "  warnings.warn(some_fits_failed_message, FitFailedWarning)\n",
      "C:\\Users\\User\\anaconda3\\lib\\site-packages\\sklearn\\model_selection\\_search.py:969: UserWarning: One or more of the test scores are non-finite: [0.60460583 0.01650868 0.60460583 0.                nan]\n",
      "  warnings.warn(\n"
     ]
    }
   ],
   "source": [
    "dummy_grid = {\n",
    "    'strategy': ['most_frequent', 'stratified', 'prior', 'uniform', 'constant']\n",
    "}\n",
    "dummy = DummyClassifier(random_state = 42)\n",
    "dummy_gs = GridSearchCV(dummy, param_grid = dummy_grid, cv = 5)\n",
    "dummy_gs.fit(xtrain, ytrain)\n",
    "print(dummy_gs.best_score_)"
   ]
  },
  {
   "cell_type": "code",
   "execution_count": null,
   "id": "fba58d4e",
   "metadata": {},
   "outputs": [],
   "source": [
    "# f1_score (0.8736109259730847) > dummy_grid (0.6046058320976277)\n",
    "# f1 существенно выше, модель успешно предсказывает регион по сценарию"
   ]
  }
 ],
 "metadata": {
  "kernelspec": {
   "display_name": "Python 3 (ipykernel)",
   "language": "python",
   "name": "python3"
  },
  "language_info": {
   "codemirror_mode": {
    "name": "ipython",
    "version": 3
   },
   "file_extension": ".py",
   "mimetype": "text/x-python",
   "name": "python",
   "nbconvert_exporter": "python",
   "pygments_lexer": "ipython3",
   "version": "3.9.12"
  }
 },
 "nbformat": 4,
 "nbformat_minor": 5
}
