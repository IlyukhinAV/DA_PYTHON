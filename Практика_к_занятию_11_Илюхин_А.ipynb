{
 "cells": [
  {
   "cell_type": "markdown",
   "metadata": {
    "id": "pDrecLU-4QjS"
   },
   "source": [
    "# Практика"
   ]
  },
  {
   "cell_type": "markdown",
   "metadata": {
    "id": "gUvTNDlMaV-a"
   },
   "source": [
    "## Определение вероятности. События\n",
    "\n",
    "Требуется сгенерировать необходимые выборки и произвести по ним расчеты"
   ]
  },
  {
   "cell_type": "markdown",
   "metadata": {
    "id": "5V70InEBTgup"
   },
   "source": [
    "### Задача 1\n",
    "Брошено две монеты. Найти вероятность того, что монеты выпали разными сторонами"
   ]
  },
  {
   "cell_type": "code",
   "execution_count": 1,
   "metadata": {},
   "outputs": [],
   "source": [
    "import pandas as pd\n",
    "import numpy as np\n",
    "import matplotlib.pyplot as plt\n",
    "import random\n",
    "import scipy.stats as sts\n",
    "%matplotlib inline\n",
    "\n",
    "import warnings\n",
    "warnings.filterwarnings('ignore')"
   ]
  },
  {
   "cell_type": "code",
   "execution_count": 2,
   "metadata": {
    "id": "88Iw-SL3jYQV"
   },
   "outputs": [
    {
     "name": "stdout",
     "output_type": "stream",
     "text": [
      "0.49\n"
     ]
    }
   ],
   "source": [
    "a1 = ['ОР', 'РР', 'РО','ОО']\n",
    "a1_list = np.random.choice(a1, 1000).tolist()\n",
    "\n",
    "print((a1_list.count('ОР')+a1_list.count('РО'))/len(a1_list))"
   ]
  },
  {
   "cell_type": "markdown",
   "metadata": {
    "id": "t0XOMos2Tl0e"
   },
   "source": [
    "### Задача 2\n",
    "Брошено три монеты. Описать множество всех элементарных событий. Найти вероятности следующих событий:\n",
    "\n",
    "\n",
    "1.   A = {не выпало ни одного герба}\n",
    "2.   B = {выпало четное число гербов}\n",
    "3.   C = {на третьей монете выпал герб}\n"
   ]
  },
  {
   "cell_type": "code",
   "execution_count": 3,
   "metadata": {
    "id": "o7NjAE9uUo-L"
   },
   "outputs": [
    {
     "name": "stdout",
     "output_type": "stream",
     "text": [
      "['ООО', 'ООР', 'ОРО', 'ОРР', 'РОО', 'РОР', 'РРО', 'РРР']\n",
      "P(A) =  0.129\n",
      "P(B) =  0.369\n",
      "P(C) =  0.494\n"
     ]
    }
   ],
   "source": [
    "# Описать множество всех элементарных событий. О - Орел, Р - решка\n",
    "from itertools import product\n",
    "a = 'О'\n",
    "b = 'Р'\n",
    "N = 3\n",
    "lst = [a, b]\n",
    "coin = [''.join(x) for x in product(lst, repeat = N)]\n",
    "print(coin)\n",
    "coin_list = np.random.choice(coin, 1000).tolist()\n",
    "\n",
    "#A = {не выпало ни одного герба}\n",
    "print(\"P(A) = \", coin_list.count('РРР')/len(coin_list))\n",
    "\n",
    "#B = {выпало четное число гербов}\n",
    "print(\"P(B) = \", (coin_list.count('ООР')+coin_list.count('ОРО')+coin_list.count('РОО'))/len(coin_list))\n",
    "\n",
    "#C = {на третьей монете выпал герб}\n",
    "print(\"P(C) = \", (coin_list.count('ООО')+coin_list.count('ОРО')+coin_list.count('РОО')+coin_list.count('РРО'))/len(coin_list))"
   ]
  },
  {
   "cell_type": "markdown",
   "metadata": {},
   "source": [
    "Предлагается также решить задачи: \n",
    "\n",
    "### Задача 3\n",
    "Из двух претендентов E и L на ответственную должность три члена комиссии должны отобрать одного. Каждый член комиссии должен указать либо одного достойного, либо забраковать обоих. Претендент считается выбранным, если он был признана достойным хотя бы двумя членами комиссии.\n",
    "Найти вероятность событий:\n",
    "\n",
    "A = {рекомендован L}, B = {рекомендован E}\n"
   ]
  },
  {
   "cell_type": "code",
   "execution_count": 4,
   "metadata": {},
   "outputs": [
    {
     "name": "stdout",
     "output_type": "stream",
     "text": [
      "P(A) =  0.262 рекомендован L\n",
      "P(B) =  0.26 рекомендован F\n"
     ]
    }
   ],
   "source": [
    "j = ['L', 'E', 'F']\n",
    "j1_list = np.random.choice(j, 1000).tolist()\n",
    "j2_list = np.random.choice(j, 1000).tolist()\n",
    "j3_list = np.random.choice(j, 1000).tolist()\n",
    "\n",
    "df = pd.DataFrame()\n",
    "df['Судья_1'] = j1_list\n",
    "df['Судья_2'] = j2_list\n",
    "df['Судья_3'] = j3_list\n",
    "df['Все решения']=df['Судья_1']+\" \"+df['Судья_2']+\" \"+df['Судья_3']\n",
    "\n",
    "df['Все решения'].unique()\n",
    "#df.groupby(['Все решения'])['Все решения'].count()\n",
    "#df1 = pd.DataFrame(df.groupby(['Все решения']).count())\n",
    "#df1.head(5)\n",
    "df['L'] = df['Все решения'].str.count('L')\n",
    "df['F'] = df['Все решения'].str.count('F')\n",
    "\n",
    "#len(df[df['L']>1])\n",
    "#df[df['F']>1].count()\n",
    "\n",
    "print(\"P(A) = \", len(df[df['L']>1])/len(df), \"рекомендован L\")\n",
    "print(\"P(B) = \", len(df[df['F']>1])/len(df), \"рекомендован F\")"
   ]
  },
  {
   "cell_type": "markdown",
   "metadata": {
    "id": "peM38mVfYa5B"
   },
   "source": [
    "### Задача 4\n",
    "Брошено две игральных кости. Описать множество элементарных событий. Найти вероятности событий:\n",
    "\n",
    "A = {вышло две \"шестерки\"}\n",
    "\n",
    "B = {сумма выпавших очков не меньше 11}\n",
    "\n",
    "C = {не выпала ни одна \"шестерка\"}"
   ]
  },
  {
   "cell_type": "code",
   "execution_count": 5,
   "metadata": {},
   "outputs": [
    {
     "name": "stdout",
     "output_type": "stream",
     "text": [
      "P(A) =  0.026\n",
      "P(B) =  0.078\n",
      "P(C) =  0.679\n"
     ]
    }
   ],
   "source": [
    "cub = pd.Series(range(1,7))\n",
    "#print(cub)\n",
    "\n",
    "cub_1 = np.random.choice(cub, 1000).tolist()\n",
    "cub_2= np.random.choice(cub, 1000).tolist()\n",
    "\n",
    "\n",
    "df4 = pd.DataFrame()\n",
    "df4['cub_1'] = cub_1\n",
    "df4['cub_2'] = cub_2\n",
    "\n",
    "df4['sum'] = df4['cub_1'] + df4['cub_2']\n",
    "df4['cub_1_2']=df4['cub_1'].astype(str)+df4['cub_2'].astype(str)\n",
    "\n",
    "df4.head()\n",
    "n = len(df4)\n",
    "\n",
    "# A = {вышло две \"шестерки\"}\n",
    "q = len(df4[df4['cub_1_2']=='66'])\n",
    "\n",
    "print(\"P(A) = \", q/n)\n",
    "\n",
    "#B = {сумма выпавших очков не меньше 11}\n",
    "\n",
    "e = len(df4[df4['sum']>=11])\n",
    "print(\"P(B) = \", e/n)\n",
    "\n",
    "#C = {не выпала ни одна \"шестерка\"}\n",
    "df4[df4['cub_1_2'].str.count('6')==0]\n",
    "\n",
    "print(\"P(C) = \", len(df4[df4['cub_1_2'].str.count('6')==0])/n)"
   ]
  },
  {
   "cell_type": "markdown",
   "metadata": {
    "id": "f-Bi0p8haclB"
   },
   "source": [
    "## Вероятность суммы событий"
   ]
  },
  {
   "cell_type": "markdown",
   "metadata": {
    "id": "g7A7QlvGTnwZ"
   },
   "source": [
    "### Задача 5\n",
    "Брошены две игральные кости. Найти вероятность события D = {выпала хотя бы одна шестёрка}\n"
   ]
  },
  {
   "cell_type": "code",
   "execution_count": 6,
   "metadata": {
    "id": "vjtTJN-kUp9D"
   },
   "outputs": [
    {
     "name": "stdout",
     "output_type": "stream",
     "text": [
      "P(D) =  0.321\n"
     ]
    }
   ],
   "source": [
    "#df4[df4['cub_1_2'].str.count('6')>=1]\n",
    "print(\"P(D) = \", len(df4[df4['cub_1_2'].str.count('6')>=1])/n)"
   ]
  },
  {
   "cell_type": "markdown",
   "metadata": {
    "id": "R1bYSzQQbC6I"
   },
   "source": [
    "Предлагается также решить задачи: \n",
    "\n",
    "### Задача 6\n",
    "В телефонном номере три последние цифры стерлись. Считая, что все возможные значения стершихся цифр равновероятны, найти вероятность событий:\n",
    "\n",
    "A = {Стерлись различные цифры},\n",
    "\n",
    "B = {Стерлись одинаковые цифры},\n",
    "\n",
    "C = {Среди стершихся цифр хотя бы две совпадают},\n",
    "\n",
    "D = {Среди стершихся цифр хотя бы две различны}\n"
   ]
  },
  {
   "cell_type": "code",
   "execution_count": 7,
   "metadata": {},
   "outputs": [
    {
     "name": "stdout",
     "output_type": "stream",
     "text": [
      "P(A) =  0.72\n",
      "P(B) =  0.01\n",
      "P(C) =  0.28\n",
      "P(D) =  0.99\n"
     ]
    }
   ],
   "source": [
    "from itertools import product\n",
    "#a = 'О'\n",
    "#b = 'Р'\n",
    "N = 3\n",
    "#lst = [a, b]\n",
    "lst = pd.Series(range(0, 10)).astype(str)\n",
    "num_3 = [''.join(x) for x in product(lst, repeat = N)]\n",
    "#print(num_3)\n",
    "\n",
    "df6 = pd.DataFrame()\n",
    "df6['nm3'] = num_3\n",
    "\n",
    "#df6['nm33']=df6.nm3.str.len()\n",
    "\n",
    "df6['0'] = df6['nm3'].str.count('0').astype(str)\n",
    "df6['1'] = df6['nm3'].str.count('1').astype(str)\n",
    "df6['2'] = df6['nm3'].str.count('2').astype(str)\n",
    "df6['3'] = df6['nm3'].str.count('3').astype(str)\n",
    "df6['4'] = df6['nm3'].str.count('4').astype(str)\n",
    "df6['5'] = df6['nm3'].str.count('5').astype(str)\n",
    "df6['6'] = df6['nm3'].str.count('6').astype(str)\n",
    "df6['7'] = df6['nm3'].str.count('7').astype(str)\n",
    "df6['8'] = df6['nm3'].str.count('8').astype(str)\n",
    "df6['9'] = df6['nm3'].str.count('9').astype(str)\n",
    "\n",
    "\n",
    "df6['all_col'] = df6.apply(\"\".join,axis=1)\n",
    "df6['all_col1'] = df6['all_col'].str.slice(start=3)\n",
    "df6.sample(5)\n",
    "\n",
    "#A = {Стерлись различные цифры}\n",
    "\n",
    "print(\"P(A) = \", len(df6[df6['all_col1'].str.count('1')==3])/len(df6))\n",
    "\n",
    "#B = {Стерлись одинаковые цифры}\n",
    "df6[df6['all_col1'].str.count('3')!=0]\n",
    "print(\"P(B) = \", len(df6[df6['all_col1'].str.count('3')!=0])/len(df6))\n",
    "\n",
    "#C = {Среди стершихся цифр хотя бы две совпадают}\n",
    "print(\"P(C) = \", (len(df6[df6['all_col1'].str.count('2')!=0])+ len(df6[df6['all_col1'].str.count('3')!=0]))/len(df6))\n",
    "\n",
    "#D = {Среди стершихся цифр хотя бы две различны}\n",
    "df6.sample(5)\n",
    "print(\"P(D) = \", (len(df6[df6['all_col1'].str.count('2')!=0])+ len(df6[df6['all_col1'].str.count('1')==3]))/len(df6))\n"
   ]
  },
  {
   "cell_type": "markdown",
   "metadata": {
    "id": "RnugkR8BalK_"
   },
   "source": [
    "## Случайные величины"
   ]
  },
  {
   "cell_type": "markdown",
   "metadata": {
    "id": "yLoZDZ17UVsp"
   },
   "source": [
    "### Задача 7\n",
    "В лотерее имеется 10 билетов, из которых один выигрышный. Размер выигрыша 10 ден. ед.; стоимость билета 1 ден ед. Найти закон распределения случайной величины X, равной чистому выигрышу участника лотереи, который вытаскивает билет первым."
   ]
  },
  {
   "cell_type": "code",
   "execution_count": 32,
   "metadata": {
    "id": "oNk432sKUqzT"
   },
   "outputs": [
    {
     "name": "stdout",
     "output_type": "stream",
     "text": [
      "Выиграл билет  [2]\n",
      "P(X = -1) =  0.9\n",
      "P(X = 9) =  0.1\n"
     ]
    }
   ],
   "source": [
    "df7 = pd.DataFrame()\n",
    "df7['номер_билета'] = pd.Series(range(1, 11))\n",
    "price = 1\n",
    "#df7['чистый_выигрыш']=10-df7['n_билетов']\n",
    "\n",
    "win = np.random.choice(range(1, 11), 1).tolist()\n",
    "print(\"Выиграл билет \", win)\n",
    "\n",
    "win_d = {win[0]: 10}\n",
    "df7['выигрыш'] = df7['номер_билета'].map(win_d)\n",
    "df7['выигрыш'] = df7['выигрыш'].fillna(0)\n",
    "df7['чистый_выигрыш'] = df7['выигрыш'] -1\n",
    "len(df7[df7['чистый_выигрыш'] == -1])\n",
    "\n",
    "print(\"P(X = -1) = \", (len(df7[df7['чистый_выигрыш'] == -1]))/len(df7))\n",
    "print(\"P(X = 9) = \", (len(df7[df7['чистый_выигрыш'] == 9]))/len(df7))"
   ]
  },
  {
   "cell_type": "markdown",
   "metadata": {
    "id": "U-NK9liSbpvb"
   },
   "source": [
    "Предлагается также решить задачу: \n",
    "\n",
    "### Задача 8\n",
    "Брошены две игральные кости. Найти закон распределения случайной величины $X$, равной сумме выпавших очков. Найти вероятности событий ${X <= 4}$, ${X > 4}$"
   ]
  },
  {
   "cell_type": "code",
   "execution_count": 9,
   "metadata": {},
   "outputs": [
    {
     "name": "stdout",
     "output_type": "stream",
     "text": [
      "P(𝑋<=4 ) =  0.152\n",
      "P(𝑋>4 ) =  0.848\n"
     ]
    }
   ],
   "source": [
    "df4.head(5)\n",
    "print(\"P(𝑋<=4 ) = \", len(df4[df4['sum']<=4])/n)\n",
    "print(\"P(𝑋>4 ) = \", len(df4[df4['sum']>4])/n)"
   ]
  },
  {
   "cell_type": "markdown",
   "metadata": {
    "id": "shgW4D83awjK"
   },
   "source": [
    "## Условные вероятности"
   ]
  },
  {
   "cell_type": "markdown",
   "metadata": {
    "id": "Fbu1RFZwWZrk"
   },
   "source": [
    "### Задача 9\n",
    "Из колоды (36 карт) вынимают последовательно без возвращения две карты. Найти вероятность того, что первой картой была шестерка, а второй — семерка. Найти условную вероятность того же события при условии, что обе карты бубновой масти.\n"
   ]
  },
  {
   "cell_type": "code",
   "execution_count": null,
   "metadata": {
    "id": "037o56awW9-E"
   },
   "outputs": [],
   "source": []
  },
  {
   "cell_type": "markdown",
   "metadata": {
    "id": "hNVxtaz5c57b"
   },
   "source": [
    "Предлагается также решить задачу: \n",
    "\n",
    "### Задача 10\n",
    "Из урны, содержащей два белых и три черных шара, последовательно извлекают два шара; вынутые шары не возвращаются. Если первый шар оказался черным, то перед вторым извлечением в урну добавляют белый шар. В противном случае состав оставшихся шаров не меняют. Найти вероятности событий:\n",
    "\n",
    "$A$ = {извлечены два белых шара},\n",
    "\n",
    "$B$ = {извлечены два черных шара}\n",
    "\n",
    "Указание. Пусть событие $C_1$ = {первый шар белый}, событие $C_2$ = {второй шар белый}. Тогда $A = C_1C_2$, $B = \\overline C_1 \\overline C_2$ "
   ]
  },
  {
   "cell_type": "code",
   "execution_count": null,
   "metadata": {
    "id": "WSLnhk2sdBt_"
   },
   "outputs": [],
   "source": []
  }
 ],
 "metadata": {
  "colab": {
   "collapsed_sections": [],
   "name": "Практика к занятию 11.ipynb",
   "provenance": []
  },
  "kernelspec": {
   "display_name": "Python 3 (ipykernel)",
   "language": "python",
   "name": "python3"
  },
  "language_info": {
   "codemirror_mode": {
    "name": "ipython",
    "version": 3
   },
   "file_extension": ".py",
   "mimetype": "text/x-python",
   "name": "python",
   "nbconvert_exporter": "python",
   "pygments_lexer": "ipython3",
   "version": "3.9.12"
  }
 },
 "nbformat": 4,
 "nbformat_minor": 1
}
