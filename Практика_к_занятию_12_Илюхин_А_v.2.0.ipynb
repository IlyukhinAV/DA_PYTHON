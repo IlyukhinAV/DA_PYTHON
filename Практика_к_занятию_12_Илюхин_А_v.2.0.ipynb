{
 "cells": [
  {
   "cell_type": "markdown",
   "metadata": {
    "id": "pDrecLU-4QjS"
   },
   "source": [
    "# Практика"
   ]
  },
  {
   "cell_type": "code",
   "execution_count": 2,
   "metadata": {
    "id": "a6XFMuQUG6jO"
   },
   "outputs": [],
   "source": [
    "import pandas as pd\n",
    "import numpy as np\n",
    "import matplotlib.pyplot as plt\n",
    "import scipy.stats as sts\n",
    "import math\n",
    "%matplotlib inline"
   ]
  },
  {
   "cell_type": "markdown",
   "metadata": {
    "id": "5owLnS0MHJnz"
   },
   "source": [
    "## ЦПТ для различных распределений\n",
    "Возьмите то непрерывное распределение, которое вам больше всего понравится из списка доступных в модуле [scipy.stats](https://docs.scipy.org/doc/scipy/reference/stats.html)."
   ]
  },
  {
   "cell_type": "markdown",
   "metadata": {
    "id": "v1IvIGF9IRgH"
   },
   "source": [
    "### Сгенерируйте примеры из распределения"
   ]
  },
  {
   "cell_type": "code",
   "execution_count": 3,
   "metadata": {
    "colab": {
     "base_uri": "https://localhost:8080/",
     "height": 377
    },
    "id": "l4oTC1NSHvl7",
    "outputId": "52df1553-6d91-4452-9ade-e2a62a8d7ff2"
   },
   "outputs": [
    {
     "data": {
      "text/plain": [
       "array([ 0.23013517, -2.20640419, -1.13009536, -0.42776975,  2.35127949,\n",
       "       -1.15683225, -0.41203   ,  0.48424664, -5.410168  , -0.5982194 ,\n",
       "        0.53978166,  1.08754889,  1.67626247,  1.0827155 ,  0.26478637,\n",
       "       -0.94545985, -0.65842016, -0.17296047,  0.23424447,  2.03225879,\n",
       "        0.41930387, -0.54511914, -0.43360323,  0.99733759,  0.65171723,\n",
       "        1.08392528,  2.24608636, -1.21516296,  2.04165333,  1.17364348,\n",
       "        0.03285739,  0.14430928,  0.41157401,  1.74457404,  1.41328197,\n",
       "       -0.0333623 , -0.53304843,  0.12107932, -0.03616395, -0.32326141,\n",
       "       -0.71662528,  0.09287629, -0.58124491,  1.80567471,  0.10361988,\n",
       "        0.83188198,  0.99224209, -1.00869342,  0.01115761, -0.16596774,\n",
       "        0.54087336,  1.21872772, -1.48743237, -1.22407511,  0.81135689,\n",
       "       -0.65405827, -0.6738499 , -0.84470817, -0.34348825,  0.32050993,\n",
       "       -4.03606458,  2.7876636 ,  0.39949075, -1.51837364, -0.42117771,\n",
       "       -0.97427409, -0.02588463,  0.25580728, -0.55128656,  1.6712388 ,\n",
       "        0.67961972,  2.42956619,  0.63675722,  0.32924991, -0.82190388,\n",
       "        0.2274562 , -0.42398973, -0.95828097, -0.51706494, -1.71044677,\n",
       "       -1.35488455, -0.10736803, -0.03053456, -0.63311662,  0.36383445,\n",
       "        0.60368825,  0.20768001,  0.23426799, -1.48601824,  1.72889476,\n",
       "        1.07054857,  0.65296503, -1.10583173, -1.06048003,  0.010322  ,\n",
       "       -0.86331838,  1.26095196, -0.29701122,  0.56708327, -0.22758658])"
      ]
     },
     "execution_count": 3,
     "metadata": {},
     "output_type": "execute_result"
    }
   ],
   "source": [
    "# ваш код тут\n",
    "# например вот такое распределение https://docs.scipy.org/doc/scipy/reference/generated/scipy.stats.cosine.html#scipy.stats.cosine\n",
    "#cosine_rv = sts.cosine()\n",
    "laplace_rv = sts.laplace()\n",
    "\n",
    "sample = laplace_rv.rvs(100)\n",
    "sample"
   ]
  },
  {
   "cell_type": "code",
   "execution_count": 4,
   "metadata": {
    "colab": {
     "base_uri": "https://localhost:8080/",
     "height": 35
    },
    "id": "ScsjsI4oXgKR",
    "outputId": "86833794-f43b-436e-a0e4-c3b7483df016"
   },
   "outputs": [
    {
     "data": {
      "text/plain": [
       "dtype('float64')"
      ]
     },
     "execution_count": 4,
     "metadata": {},
     "output_type": "execute_result"
    }
   ],
   "source": [
    "sample.dtype"
   ]
  },
  {
   "cell_type": "code",
   "execution_count": 5,
   "metadata": {
    "id": "pXTNSqAOCYX4"
   },
   "outputs": [
    {
     "data": {
      "text/plain": [
       "0.0"
      ]
     },
     "execution_count": 5,
     "metadata": {},
     "output_type": "execute_result"
    }
   ],
   "source": [
    "real_mean = laplace_rv.mean() # настоящее среднее случайной величины\n",
    "real_mean"
   ]
  },
  {
   "cell_type": "code",
   "execution_count": 6,
   "metadata": {
    "id": "5x4hFKaUCWSY"
   },
   "outputs": [
    {
     "data": {
      "text/plain": [
       "2.0"
      ]
     },
     "execution_count": 6,
     "metadata": {},
     "output_type": "execute_result"
    }
   ],
   "source": [
    "real_var = laplace_rv.var() # настоящая дисперсия случайной величины\n",
    "real_var"
   ]
  },
  {
   "cell_type": "markdown",
   "metadata": {
    "id": "4bNn15giIX77"
   },
   "source": [
    "### Постройте гистограмму выборки и теоретическую плотность распределения"
   ]
  },
  {
   "cell_type": "code",
   "execution_count": 7,
   "metadata": {
    "colab": {
     "base_uri": "https://localhost:8080/",
     "height": 283
    },
    "id": "CwbvqecvIcXN",
    "outputId": "ace01d5d-2552-499b-bc4f-1eb19166af83"
   },
   "outputs": [
    {
     "data": {
      "text/plain": [
       "<matplotlib.legend.Legend at 0x25130a7d2e0>"
      ]
     },
     "execution_count": 7,
     "metadata": {},
     "output_type": "execute_result"
    },
    {
     "data": {
      "image/png": "[encoded data removed]",
      "text/plain": [
       "<Figure size 432x288 with 1 Axes>"
      ]
     },
     "metadata": {
      "needs_background": "light"
     },
     "output_type": "display_data"
    }
   ],
   "source": [
    "# ваш код тут\n",
    "plt.hist(sample, density=True)\n",
    "x = np.linspace(-4,4,100)\n",
    "pdf = laplace_rv.pdf(x)\n",
    "plt.plot(x, pdf, label='теоретическая плотность', alpha=0.5)\n",
    "plt.legend()"
   ]
  },
  {
   "cell_type": "code",
   "execution_count": 8,
   "metadata": {
    "colab": {
     "base_uri": "https://localhost:8080/",
     "height": 51
    },
    "id": "rKd5XFelBqe7",
    "outputId": "32773b82-a3e9-46a2-b06d-a94d667d4f66"
   },
   "outputs": [
    {
     "name": "stdout",
     "output_type": "stream",
     "text": [
      "0.0224748730945154\n",
      "1.4754531592159332\n"
     ]
    }
   ],
   "source": [
    "sample_mean = sample.mean() # выборочное среднее\n",
    "print(sample_mean)\n",
    "sample_var = sample.var() # выборочная дисперсия\n",
    "print(sample_var)"
   ]
  },
  {
   "cell_type": "markdown",
   "metadata": {
    "id": "qPuHR68NId_Z"
   },
   "source": [
    "### Оценим распределение выборочного среднего для разных объёмов выборок\n",
    "Для этого постройте на одном полотне гистограмму выборочных средних и теоретическое распределение выборочных средних по ЦПТ для разных объёмов выборок.\n",
    "\n",
    "Для теоретического распределение используйте настоящие значения мат ожидания и дисперсии (не приближенные на основе выборки)."
   ]
  },
  {
   "cell_type": "code",
   "execution_count": 9,
   "metadata": {
    "id": "_mB8upK7J58w"
   },
   "outputs": [
    {
     "data": {
      "text/plain": [
       "array([4.73919759, 3.75562198, 4.44677689, 2.66580323, 2.34740679,\n",
       "       3.70802328, 4.29062671, 4.95267994, 2.84769101, 2.93573809])"
      ]
     },
     "execution_count": 9,
     "metadata": {},
     "output_type": "execute_result"
    }
   ],
   "source": [
    "a = 2\n",
    "b = 5\n",
    "\n",
    "# обратите внимание, что в этой функции задается левая граница и масштаб, а не левая и правая границы:\n",
    "uniform_rv = sts.uniform(a, b-a)\n",
    "\n",
    "uniform_rv.rvs(10)"
   ]
  },
  {
   "cell_type": "code",
   "execution_count": 10,
   "metadata": {},
   "outputs": [
    {
     "data": {
      "image/png": "[encoded data removed]",
      "text/plain": [
       "<Figure size 1152x648 with 1 Axes>"
      ]
     },
     "metadata": {
      "needs_background": "light"
     },
     "output_type": "display_data"
    }
   ],
   "source": [
    "plt.figure(figsize=(16,9))\n",
    "# сгенерируем много выборочных средних\n",
    "for N in [10, 100, 1000, 100000]:\n",
    "    means = []\n",
    "    for i in range(1000):\n",
    "         means.append(np.mean(uniform_rv.rvs(N)))\n",
    "    plt.hist(means, alpha=0.5)\n",
    "\n",
    "plt.legend(['10', '100', '1000', '100000'])\n",
    "plt.show()"
   ]
  },
  {
   "cell_type": "markdown",
   "metadata": {
    "id": "TF1onBy_J7sX"
   },
   "source": [
    "Как вы считаете, для выбранного распределения апроксимация распределения выборочного среднего работает хорошо или плохо?\n",
    "**Ваш ответ:**"
   ]
  },
  {
   "cell_type": "code",
   "execution_count": 11,
   "metadata": {
    "id": "1BEsK495KIuM"
   },
   "outputs": [],
   "source": [
    "#для выбранного распределения апроксимация распределения выборочного среднего работает хорошо.\n",
    "#С увеличением объема выборки стремится к 3,5"
   ]
  },
  {
   "cell_type": "markdown",
   "metadata": {
    "id": "xEyWxfjSfxGp"
   },
   "source": [
    "## Доверительный интервал на основе ЦПТ\n",
    "Возьмите данные для оттока телеком компании, и постройте доверительные интервалы для среднего значения total day calls, используя центральную предельную теорему в разбиении по колонке churn (ушел/не ушел). \n",
    "\n",
    "Для оценки дисперсии используйте несмещенную оценку (параметр ddof=1).\n",
    "\n",
    "Сделайте оценку с использованием явной формулы для z интервала, а затем с помощью функций \n",
    "`from statsmodels.stats.weightstats import _zconfint_generic`. Сравните результаты.\n",
    "\n",
    "\n",
    "Ссылка на данные: https://drive.google.com/file/d/1X_drKqoarnU2Sz2har7uSCsgyhh8Xtz8/view?usp=sharing"
   ]
  },
  {
   "cell_type": "code",
   "execution_count": 12,
   "metadata": {
    "id": "56V0za8GfxeL"
   },
   "outputs": [
    {
     "data": {
      "text/html": [
       "<div>\n",
       "<style scoped>\n",
       "    .dataframe tbody tr th:only-of-type {\n",
       "        vertical-align: middle;\n",
       "    }\n",
       "\n",
       "    .dataframe tbody tr th {\n",
       "        vertical-align: top;\n",
       "    }\n",
       "\n",
       "    .dataframe thead th {\n",
       "        text-align: right;\n",
       "    }\n",
       "</style>\n",
       "<table border=\"1\" class=\"dataframe\">\n",
       "  <thead>\n",
       "    <tr style=\"text-align: right;\">\n",
       "      <th></th>\n",
       "      <th>state</th>\n",
       "      <th>account length</th>\n",
       "      <th>area code</th>\n",
       "      <th>phone number</th>\n",
       "      <th>international plan</th>\n",
       "      <th>voice mail plan</th>\n",
       "      <th>number vmail messages</th>\n",
       "      <th>total day minutes</th>\n",
       "      <th>total day calls</th>\n",
       "      <th>total day charge</th>\n",
       "      <th>...</th>\n",
       "      <th>total eve calls</th>\n",
       "      <th>total eve charge</th>\n",
       "      <th>total night minutes</th>\n",
       "      <th>total night calls</th>\n",
       "      <th>total night charge</th>\n",
       "      <th>total intl minutes</th>\n",
       "      <th>total intl calls</th>\n",
       "      <th>total intl charge</th>\n",
       "      <th>customer service calls</th>\n",
       "      <th>churn</th>\n",
       "    </tr>\n",
       "  </thead>\n",
       "  <tbody>\n",
       "    <tr>\n",
       "      <th>0</th>\n",
       "      <td>KS</td>\n",
       "      <td>128</td>\n",
       "      <td>415</td>\n",
       "      <td>382-4657</td>\n",
       "      <td>no</td>\n",
       "      <td>yes</td>\n",
       "      <td>25</td>\n",
       "      <td>265.1</td>\n",
       "      <td>110</td>\n",
       "      <td>45.07</td>\n",
       "      <td>...</td>\n",
       "      <td>99</td>\n",
       "      <td>16.78</td>\n",
       "      <td>244.7</td>\n",
       "      <td>91</td>\n",
       "      <td>11.01</td>\n",
       "      <td>10.0</td>\n",
       "      <td>3</td>\n",
       "      <td>2.70</td>\n",
       "      <td>1</td>\n",
       "      <td>False</td>\n",
       "    </tr>\n",
       "    <tr>\n",
       "      <th>1</th>\n",
       "      <td>OH</td>\n",
       "      <td>107</td>\n",
       "      <td>415</td>\n",
       "      <td>371-7191</td>\n",
       "      <td>no</td>\n",
       "      <td>yes</td>\n",
       "      <td>26</td>\n",
       "      <td>161.6</td>\n",
       "      <td>123</td>\n",
       "      <td>27.47</td>\n",
       "      <td>...</td>\n",
       "      <td>103</td>\n",
       "      <td>16.62</td>\n",
       "      <td>254.4</td>\n",
       "      <td>103</td>\n",
       "      <td>11.45</td>\n",
       "      <td>13.7</td>\n",
       "      <td>3</td>\n",
       "      <td>3.70</td>\n",
       "      <td>1</td>\n",
       "      <td>False</td>\n",
       "    </tr>\n",
       "    <tr>\n",
       "      <th>2</th>\n",
       "      <td>NJ</td>\n",
       "      <td>137</td>\n",
       "      <td>415</td>\n",
       "      <td>358-1921</td>\n",
       "      <td>no</td>\n",
       "      <td>no</td>\n",
       "      <td>0</td>\n",
       "      <td>243.4</td>\n",
       "      <td>114</td>\n",
       "      <td>41.38</td>\n",
       "      <td>...</td>\n",
       "      <td>110</td>\n",
       "      <td>10.30</td>\n",
       "      <td>162.6</td>\n",
       "      <td>104</td>\n",
       "      <td>7.32</td>\n",
       "      <td>12.2</td>\n",
       "      <td>5</td>\n",
       "      <td>3.29</td>\n",
       "      <td>0</td>\n",
       "      <td>False</td>\n",
       "    </tr>\n",
       "    <tr>\n",
       "      <th>3</th>\n",
       "      <td>OH</td>\n",
       "      <td>84</td>\n",
       "      <td>408</td>\n",
       "      <td>375-9999</td>\n",
       "      <td>yes</td>\n",
       "      <td>no</td>\n",
       "      <td>0</td>\n",
       "      <td>299.4</td>\n",
       "      <td>71</td>\n",
       "      <td>50.90</td>\n",
       "      <td>...</td>\n",
       "      <td>88</td>\n",
       "      <td>5.26</td>\n",
       "      <td>196.9</td>\n",
       "      <td>89</td>\n",
       "      <td>8.86</td>\n",
       "      <td>6.6</td>\n",
       "      <td>7</td>\n",
       "      <td>1.78</td>\n",
       "      <td>2</td>\n",
       "      <td>False</td>\n",
       "    </tr>\n",
       "    <tr>\n",
       "      <th>4</th>\n",
       "      <td>OK</td>\n",
       "      <td>75</td>\n",
       "      <td>415</td>\n",
       "      <td>330-6626</td>\n",
       "      <td>yes</td>\n",
       "      <td>no</td>\n",
       "      <td>0</td>\n",
       "      <td>166.7</td>\n",
       "      <td>113</td>\n",
       "      <td>28.34</td>\n",
       "      <td>...</td>\n",
       "      <td>122</td>\n",
       "      <td>12.61</td>\n",
       "      <td>186.9</td>\n",
       "      <td>121</td>\n",
       "      <td>8.41</td>\n",
       "      <td>10.1</td>\n",
       "      <td>3</td>\n",
       "      <td>2.73</td>\n",
       "      <td>3</td>\n",
       "      <td>False</td>\n",
       "    </tr>\n",
       "    <tr>\n",
       "      <th>...</th>\n",
       "      <td>...</td>\n",
       "      <td>...</td>\n",
       "      <td>...</td>\n",
       "      <td>...</td>\n",
       "      <td>...</td>\n",
       "      <td>...</td>\n",
       "      <td>...</td>\n",
       "      <td>...</td>\n",
       "      <td>...</td>\n",
       "      <td>...</td>\n",
       "      <td>...</td>\n",
       "      <td>...</td>\n",
       "      <td>...</td>\n",
       "      <td>...</td>\n",
       "      <td>...</td>\n",
       "      <td>...</td>\n",
       "      <td>...</td>\n",
       "      <td>...</td>\n",
       "      <td>...</td>\n",
       "      <td>...</td>\n",
       "      <td>...</td>\n",
       "    </tr>\n",
       "    <tr>\n",
       "      <th>3328</th>\n",
       "      <td>AZ</td>\n",
       "      <td>192</td>\n",
       "      <td>415</td>\n",
       "      <td>414-4276</td>\n",
       "      <td>no</td>\n",
       "      <td>yes</td>\n",
       "      <td>36</td>\n",
       "      <td>156.2</td>\n",
       "      <td>77</td>\n",
       "      <td>26.55</td>\n",
       "      <td>...</td>\n",
       "      <td>126</td>\n",
       "      <td>18.32</td>\n",
       "      <td>279.1</td>\n",
       "      <td>83</td>\n",
       "      <td>12.56</td>\n",
       "      <td>9.9</td>\n",
       "      <td>6</td>\n",
       "      <td>2.67</td>\n",
       "      <td>2</td>\n",
       "      <td>False</td>\n",
       "    </tr>\n",
       "    <tr>\n",
       "      <th>3329</th>\n",
       "      <td>WV</td>\n",
       "      <td>68</td>\n",
       "      <td>415</td>\n",
       "      <td>370-3271</td>\n",
       "      <td>no</td>\n",
       "      <td>no</td>\n",
       "      <td>0</td>\n",
       "      <td>231.1</td>\n",
       "      <td>57</td>\n",
       "      <td>39.29</td>\n",
       "      <td>...</td>\n",
       "      <td>55</td>\n",
       "      <td>13.04</td>\n",
       "      <td>191.3</td>\n",
       "      <td>123</td>\n",
       "      <td>8.61</td>\n",
       "      <td>9.6</td>\n",
       "      <td>4</td>\n",
       "      <td>2.59</td>\n",
       "      <td>3</td>\n",
       "      <td>False</td>\n",
       "    </tr>\n",
       "    <tr>\n",
       "      <th>3330</th>\n",
       "      <td>RI</td>\n",
       "      <td>28</td>\n",
       "      <td>510</td>\n",
       "      <td>328-8230</td>\n",
       "      <td>no</td>\n",
       "      <td>no</td>\n",
       "      <td>0</td>\n",
       "      <td>180.8</td>\n",
       "      <td>109</td>\n",
       "      <td>30.74</td>\n",
       "      <td>...</td>\n",
       "      <td>58</td>\n",
       "      <td>24.55</td>\n",
       "      <td>191.9</td>\n",
       "      <td>91</td>\n",
       "      <td>8.64</td>\n",
       "      <td>14.1</td>\n",
       "      <td>6</td>\n",
       "      <td>3.81</td>\n",
       "      <td>2</td>\n",
       "      <td>False</td>\n",
       "    </tr>\n",
       "    <tr>\n",
       "      <th>3331</th>\n",
       "      <td>CT</td>\n",
       "      <td>184</td>\n",
       "      <td>510</td>\n",
       "      <td>364-6381</td>\n",
       "      <td>yes</td>\n",
       "      <td>no</td>\n",
       "      <td>0</td>\n",
       "      <td>213.8</td>\n",
       "      <td>105</td>\n",
       "      <td>36.35</td>\n",
       "      <td>...</td>\n",
       "      <td>84</td>\n",
       "      <td>13.57</td>\n",
       "      <td>139.2</td>\n",
       "      <td>137</td>\n",
       "      <td>6.26</td>\n",
       "      <td>5.0</td>\n",
       "      <td>10</td>\n",
       "      <td>1.35</td>\n",
       "      <td>2</td>\n",
       "      <td>False</td>\n",
       "    </tr>\n",
       "    <tr>\n",
       "      <th>3332</th>\n",
       "      <td>TN</td>\n",
       "      <td>74</td>\n",
       "      <td>415</td>\n",
       "      <td>400-4344</td>\n",
       "      <td>no</td>\n",
       "      <td>yes</td>\n",
       "      <td>25</td>\n",
       "      <td>234.4</td>\n",
       "      <td>113</td>\n",
       "      <td>39.85</td>\n",
       "      <td>...</td>\n",
       "      <td>82</td>\n",
       "      <td>22.60</td>\n",
       "      <td>241.4</td>\n",
       "      <td>77</td>\n",
       "      <td>10.86</td>\n",
       "      <td>13.7</td>\n",
       "      <td>4</td>\n",
       "      <td>3.70</td>\n",
       "      <td>0</td>\n",
       "      <td>False</td>\n",
       "    </tr>\n",
       "  </tbody>\n",
       "</table>\n",
       "<p>3333 rows × 21 columns</p>\n",
       "</div>"
      ],
      "text/plain": [
       "     state  account length  area code phone number international plan  \\\n",
       "0       KS             128        415     382-4657                 no   \n",
       "1       OH             107        415     371-7191                 no   \n",
       "2       NJ             137        415     358-1921                 no   \n",
       "3       OH              84        408     375-9999                yes   \n",
       "4       OK              75        415     330-6626                yes   \n",
       "...    ...             ...        ...          ...                ...   \n",
       "3328    AZ             192        415     414-4276                 no   \n",
       "3329    WV              68        415     370-3271                 no   \n",
       "3330    RI              28        510     328-8230                 no   \n",
       "3331    CT             184        510     364-6381                yes   \n",
       "3332    TN              74        415     400-4344                 no   \n",
       "\n",
       "     voice mail plan  number vmail messages  total day minutes  \\\n",
       "0                yes                     25              265.1   \n",
       "1                yes                     26              161.6   \n",
       "2                 no                      0              243.4   \n",
       "3                 no                      0              299.4   \n",
       "4                 no                      0              166.7   \n",
       "...              ...                    ...                ...   \n",
       "3328             yes                     36              156.2   \n",
       "3329              no                      0              231.1   \n",
       "3330              no                      0              180.8   \n",
       "3331              no                      0              213.8   \n",
       "3332             yes                     25              234.4   \n",
       "\n",
       "      total day calls  total day charge  ...  total eve calls  \\\n",
       "0                 110             45.07  ...               99   \n",
       "1                 123             27.47  ...              103   \n",
       "2                 114             41.38  ...              110   \n",
       "3                  71             50.90  ...               88   \n",
       "4                 113             28.34  ...              122   \n",
       "...               ...               ...  ...              ...   \n",
       "3328               77             26.55  ...              126   \n",
       "3329               57             39.29  ...               55   \n",
       "3330              109             30.74  ...               58   \n",
       "3331              105             36.35  ...               84   \n",
       "3332              113             39.85  ...               82   \n",
       "\n",
       "      total eve charge  total night minutes  total night calls  \\\n",
       "0                16.78                244.7                 91   \n",
       "1                16.62                254.4                103   \n",
       "2                10.30                162.6                104   \n",
       "3                 5.26                196.9                 89   \n",
       "4                12.61                186.9                121   \n",
       "...                ...                  ...                ...   \n",
       "3328             18.32                279.1                 83   \n",
       "3329             13.04                191.3                123   \n",
       "3330             24.55                191.9                 91   \n",
       "3331             13.57                139.2                137   \n",
       "3332             22.60                241.4                 77   \n",
       "\n",
       "      total night charge  total intl minutes  total intl calls  \\\n",
       "0                  11.01                10.0                 3   \n",
       "1                  11.45                13.7                 3   \n",
       "2                   7.32                12.2                 5   \n",
       "3                   8.86                 6.6                 7   \n",
       "4                   8.41                10.1                 3   \n",
       "...                  ...                 ...               ...   \n",
       "3328               12.56                 9.9                 6   \n",
       "3329                8.61                 9.6                 4   \n",
       "3330                8.64                14.1                 6   \n",
       "3331                6.26                 5.0                10   \n",
       "3332               10.86                13.7                 4   \n",
       "\n",
       "      total intl charge  customer service calls  churn  \n",
       "0                  2.70                       1  False  \n",
       "1                  3.70                       1  False  \n",
       "2                  3.29                       0  False  \n",
       "3                  1.78                       2  False  \n",
       "4                  2.73                       3  False  \n",
       "...                 ...                     ...    ...  \n",
       "3328               2.67                       2  False  \n",
       "3329               2.59                       3  False  \n",
       "3330               3.81                       2  False  \n",
       "3331               1.35                       2  False  \n",
       "3332               3.70                       0  False  \n",
       "\n",
       "[3333 rows x 21 columns]"
      ]
     },
     "metadata": {},
     "output_type": "display_data"
    }
   ],
   "source": [
    "# либо загружаем из альтернативного хранилища\n",
    "url =\"https://raw.githubusercontent.com/piton1/DA/Lesson_12/telecom_churn.csv\"\n",
    "df=pd.read_csv(url)\n",
    "display(df)"
   ]
  },
  {
   "cell_type": "code",
   "execution_count": 13,
   "metadata": {},
   "outputs": [
    {
     "data": {
      "text/html": [
       "<div>\n",
       "<style scoped>\n",
       "    .dataframe tbody tr th:only-of-type {\n",
       "        vertical-align: middle;\n",
       "    }\n",
       "\n",
       "    .dataframe tbody tr th {\n",
       "        vertical-align: top;\n",
       "    }\n",
       "\n",
       "    .dataframe thead th {\n",
       "        text-align: right;\n",
       "    }\n",
       "</style>\n",
       "<table border=\"1\" class=\"dataframe\">\n",
       "  <thead>\n",
       "    <tr style=\"text-align: right;\">\n",
       "      <th></th>\n",
       "      <th>state</th>\n",
       "      <th>account length</th>\n",
       "      <th>area code</th>\n",
       "      <th>phone number</th>\n",
       "      <th>international plan</th>\n",
       "      <th>voice mail plan</th>\n",
       "      <th>number vmail messages</th>\n",
       "      <th>total day minutes</th>\n",
       "      <th>total day calls</th>\n",
       "      <th>total day charge</th>\n",
       "      <th>...</th>\n",
       "      <th>total eve calls</th>\n",
       "      <th>total eve charge</th>\n",
       "      <th>total night minutes</th>\n",
       "      <th>total night calls</th>\n",
       "      <th>total night charge</th>\n",
       "      <th>total intl minutes</th>\n",
       "      <th>total intl calls</th>\n",
       "      <th>total intl charge</th>\n",
       "      <th>customer service calls</th>\n",
       "      <th>churn</th>\n",
       "    </tr>\n",
       "  </thead>\n",
       "  <tbody>\n",
       "    <tr>\n",
       "      <th>10</th>\n",
       "      <td>IN</td>\n",
       "      <td>65</td>\n",
       "      <td>415</td>\n",
       "      <td>329-6603</td>\n",
       "      <td>no</td>\n",
       "      <td>no</td>\n",
       "      <td>0</td>\n",
       "      <td>129.1</td>\n",
       "      <td>137</td>\n",
       "      <td>21.95</td>\n",
       "      <td>...</td>\n",
       "      <td>83</td>\n",
       "      <td>19.42</td>\n",
       "      <td>208.8</td>\n",
       "      <td>111</td>\n",
       "      <td>9.40</td>\n",
       "      <td>12.7</td>\n",
       "      <td>6</td>\n",
       "      <td>3.43</td>\n",
       "      <td>4</td>\n",
       "      <td>True</td>\n",
       "    </tr>\n",
       "    <tr>\n",
       "      <th>15</th>\n",
       "      <td>NY</td>\n",
       "      <td>161</td>\n",
       "      <td>415</td>\n",
       "      <td>351-7269</td>\n",
       "      <td>no</td>\n",
       "      <td>no</td>\n",
       "      <td>0</td>\n",
       "      <td>332.9</td>\n",
       "      <td>67</td>\n",
       "      <td>56.59</td>\n",
       "      <td>...</td>\n",
       "      <td>97</td>\n",
       "      <td>27.01</td>\n",
       "      <td>160.6</td>\n",
       "      <td>128</td>\n",
       "      <td>7.23</td>\n",
       "      <td>5.4</td>\n",
       "      <td>9</td>\n",
       "      <td>1.46</td>\n",
       "      <td>4</td>\n",
       "      <td>True</td>\n",
       "    </tr>\n",
       "    <tr>\n",
       "      <th>21</th>\n",
       "      <td>CO</td>\n",
       "      <td>77</td>\n",
       "      <td>408</td>\n",
       "      <td>393-7984</td>\n",
       "      <td>no</td>\n",
       "      <td>no</td>\n",
       "      <td>0</td>\n",
       "      <td>62.4</td>\n",
       "      <td>89</td>\n",
       "      <td>10.61</td>\n",
       "      <td>...</td>\n",
       "      <td>121</td>\n",
       "      <td>14.44</td>\n",
       "      <td>209.6</td>\n",
       "      <td>64</td>\n",
       "      <td>9.43</td>\n",
       "      <td>5.7</td>\n",
       "      <td>6</td>\n",
       "      <td>1.54</td>\n",
       "      <td>5</td>\n",
       "      <td>True</td>\n",
       "    </tr>\n",
       "    <tr>\n",
       "      <th>33</th>\n",
       "      <td>AZ</td>\n",
       "      <td>12</td>\n",
       "      <td>408</td>\n",
       "      <td>360-1596</td>\n",
       "      <td>no</td>\n",
       "      <td>no</td>\n",
       "      <td>0</td>\n",
       "      <td>249.6</td>\n",
       "      <td>118</td>\n",
       "      <td>42.43</td>\n",
       "      <td>...</td>\n",
       "      <td>119</td>\n",
       "      <td>21.45</td>\n",
       "      <td>280.2</td>\n",
       "      <td>90</td>\n",
       "      <td>12.61</td>\n",
       "      <td>11.8</td>\n",
       "      <td>3</td>\n",
       "      <td>3.19</td>\n",
       "      <td>1</td>\n",
       "      <td>True</td>\n",
       "    </tr>\n",
       "    <tr>\n",
       "      <th>41</th>\n",
       "      <td>MD</td>\n",
       "      <td>135</td>\n",
       "      <td>408</td>\n",
       "      <td>383-6029</td>\n",
       "      <td>yes</td>\n",
       "      <td>yes</td>\n",
       "      <td>41</td>\n",
       "      <td>173.1</td>\n",
       "      <td>85</td>\n",
       "      <td>29.43</td>\n",
       "      <td>...</td>\n",
       "      <td>107</td>\n",
       "      <td>17.33</td>\n",
       "      <td>122.2</td>\n",
       "      <td>78</td>\n",
       "      <td>5.50</td>\n",
       "      <td>14.6</td>\n",
       "      <td>15</td>\n",
       "      <td>3.94</td>\n",
       "      <td>0</td>\n",
       "      <td>True</td>\n",
       "    </tr>\n",
       "  </tbody>\n",
       "</table>\n",
       "<p>5 rows × 21 columns</p>\n",
       "</div>"
      ],
      "text/plain": [
       "   state  account length  area code phone number international plan  \\\n",
       "10    IN              65        415     329-6603                 no   \n",
       "15    NY             161        415     351-7269                 no   \n",
       "21    CO              77        408     393-7984                 no   \n",
       "33    AZ              12        408     360-1596                 no   \n",
       "41    MD             135        408     383-6029                yes   \n",
       "\n",
       "   voice mail plan  number vmail messages  total day minutes  total day calls  \\\n",
       "10              no                      0              129.1              137   \n",
       "15              no                      0              332.9               67   \n",
       "21              no                      0               62.4               89   \n",
       "33              no                      0              249.6              118   \n",
       "41             yes                     41              173.1               85   \n",
       "\n",
       "    total day charge  ...  total eve calls  total eve charge  \\\n",
       "10             21.95  ...               83             19.42   \n",
       "15             56.59  ...               97             27.01   \n",
       "21             10.61  ...              121             14.44   \n",
       "33             42.43  ...              119             21.45   \n",
       "41             29.43  ...              107             17.33   \n",
       "\n",
       "    total night minutes  total night calls  total night charge  \\\n",
       "10                208.8                111                9.40   \n",
       "15                160.6                128                7.23   \n",
       "21                209.6                 64                9.43   \n",
       "33                280.2                 90               12.61   \n",
       "41                122.2                 78                5.50   \n",
       "\n",
       "    total intl minutes  total intl calls  total intl charge  \\\n",
       "10                12.7                 6               3.43   \n",
       "15                 5.4                 9               1.46   \n",
       "21                 5.7                 6               1.54   \n",
       "33                11.8                 3               3.19   \n",
       "41                14.6                15               3.94   \n",
       "\n",
       "    customer service calls  churn  \n",
       "10                       4   True  \n",
       "15                       4   True  \n",
       "21                       5   True  \n",
       "33                       1   True  \n",
       "41                       0   True  \n",
       "\n",
       "[5 rows x 21 columns]"
      ]
     },
     "execution_count": 13,
     "metadata": {},
     "output_type": "execute_result"
    }
   ],
   "source": [
    "churn_true = df[df['churn'] == True]\n",
    "churn_true.head(5)"
   ]
  },
  {
   "cell_type": "code",
   "execution_count": 14,
   "metadata": {},
   "outputs": [
    {
     "data": {
      "text/plain": [
       "3333"
      ]
     },
     "execution_count": 14,
     "metadata": {},
     "output_type": "execute_result"
    }
   ],
   "source": [
    "N = len(df)\n",
    "N"
   ]
  },
  {
   "cell_type": "code",
   "execution_count": 15,
   "metadata": {},
   "outputs": [],
   "source": [
    "import statsmodels.stats.weightstats as ssw"
   ]
  },
  {
   "cell_type": "code",
   "execution_count": 16,
   "metadata": {},
   "outputs": [
    {
     "name": "stdout",
     "output_type": "stream",
     "text": [
      "Доверительный интервал для среднего по цпт, если нам известна дисперсия: [100.58773328949944, 102.08307416391672] \n",
      "Доверительный интервал для среднего по цпт интервальная оценка: (100.60270016209095, 102.0681072913252) \n",
      "Доверительный интервал для среднего по цпт методом _zconfint_generic: (99.98204678079553, 102.68876067262063) \n"
     ]
    }
   ],
   "source": [
    "data = churn_true['total day calls']\n",
    "print(\"Доверительный интервал для среднего по цпт, если нам известна дисперсия: [{}, {}] \".format(\n",
    "    np.mean(data) - 2 * churn_true['total day calls'].std() / np.sqrt(N), np.mean(data) + 2 * churn_true['total day calls'].std() / np.sqrt(N) \n",
    "))\n",
    "print(\"Доверительный интервал для среднего по цпт интервальная оценка: {} \".format(\n",
    "    sts.norm.interval(alpha=0.95, loc=np.mean(data), \n",
    "                      scale=np.std(data, ddof=1)/np.sqrt(N)) # alternative 'two-sided' only\n",
    "))\n",
    "\n",
    "print(\"Доверительный интервал для среднего по цпт методом _zconfint_generic: {} \".format(\n",
    "    ssw._zconfint_generic(np.mean(data),  np.std(data, ddof=1), alpha=0.95, alternative='two-sided')\n",
    "))"
   ]
  },
  {
   "cell_type": "code",
   "execution_count": 28,
   "metadata": {},
   "outputs": [
    {
     "name": "stdout",
     "output_type": "stream",
     "text": [
      "Для N=10 ДИ 110.0000 ... 110.0000\n",
      "Для N=50 ДИ 101.0204 ... 101.0204\n",
      "Для N=100 ДИ 101.6667 ... 101.6667\n",
      "Для N=100000 ДИ 101.3358 ... 101.3358\n"
     ]
    }
   ],
   "source": [
    "# Сделайте оценку с использованием явной формулы для z интервала (Вариант 1)\n",
    "mu = np.mean(churn_true['total day calls'])\n",
    "sigma = np.std(data, ddof=1)\n",
    "norm_rv = sts.norm(mu, sigma)\n",
    "N = [10, 50, 100, 100000]\n",
    "alpha = .05\n",
    "for n in N:\n",
    "    samples = np.linspace(churn_true['total day calls'].min(), churn_true['total day calls'].max(), n)\n",
    "    pdf = norm_rv.pdf(samples)\n",
    "    qa = norm_rv.pdf(alpha/2)\n",
    "    qb = norm_rv.pdf(1-alpha/2)\n",
    "    print (\"Для N=%.f ДИ %.4f ... %.4f\" % (n, samples[np.argmax(pdf)]-qa*np.sqrt(sigma/n), samples[np.argmax(pdf)]+qb*np.sqrt(sigma/n)))"
   ]
  },
  {
   "cell_type": "code",
   "execution_count": 30,
   "metadata": {},
   "outputs": [
    {
     "data": {
      "text/plain": [
       "101.33540372670808"
      ]
     },
     "execution_count": 30,
     "metadata": {},
     "output_type": "execute_result"
    }
   ],
   "source": [
    "np.mean(churn_true['total day calls'])"
   ]
  },
  {
   "cell_type": "code",
   "execution_count": 65,
   "metadata": {},
   "outputs": [],
   "source": [
    "# Сделайте оценку с использованием явной формулы для z интервала (Вариант 2)\n",
    "df1=churn_true\n",
    "stats = df1.groupby(['churn'])['total day calls'].agg(['mean', 'count', 'std'])\n",
    "\n",
    "ci95_hi = []\n",
    "ci95_lo = []\n",
    "for i in stats.index:\n",
    "    m, c, s = stats.loc[i]\n",
    "    ci95_hi.append(m + 1.96*s/math.sqrt(c))\n",
    "    ci95_lo.append(m - 1.96*s/math.sqrt(c))\n",
    "stats['ci95_hi'] = ci95_hi\n",
    "stats['ci95_lo'] = ci95_lo\n"
   ]
  },
  {
   "cell_type": "code",
   "execution_count": 63,
   "metadata": {},
   "outputs": [
    {
     "data": {
      "text/html": [
       "<div>\n",
       "<style scoped>\n",
       "    .dataframe tbody tr th:only-of-type {\n",
       "        vertical-align: middle;\n",
       "    }\n",
       "\n",
       "    .dataframe tbody tr th {\n",
       "        vertical-align: top;\n",
       "    }\n",
       "\n",
       "    .dataframe thead th {\n",
       "        text-align: right;\n",
       "    }\n",
       "</style>\n",
       "<table border=\"1\" class=\"dataframe\">\n",
       "  <thead>\n",
       "    <tr style=\"text-align: right;\">\n",
       "      <th></th>\n",
       "      <th>mean</th>\n",
       "      <th>count</th>\n",
       "      <th>std</th>\n",
       "      <th>ci95_hi</th>\n",
       "      <th>ci95_lo</th>\n",
       "    </tr>\n",
       "    <tr>\n",
       "      <th>churn</th>\n",
       "      <th></th>\n",
       "      <th></th>\n",
       "      <th></th>\n",
       "      <th></th>\n",
       "      <th></th>\n",
       "    </tr>\n",
       "  </thead>\n",
       "  <tbody>\n",
       "    <tr>\n",
       "      <th>True</th>\n",
       "      <td>101.335404</td>\n",
       "      <td>483</td>\n",
       "      <td>21.582307</td>\n",
       "      <td>103.260181</td>\n",
       "      <td>99.410627</td>\n",
       "    </tr>\n",
       "  </tbody>\n",
       "</table>\n",
       "</div>"
      ],
      "text/plain": [
       "             mean  count        std     ci95_hi    ci95_lo\n",
       "churn                                                     \n",
       "True   101.335404    483  21.582307  103.260181  99.410627"
      ]
     },
     "execution_count": 63,
     "metadata": {},
     "output_type": "execute_result"
    }
   ],
   "source": [
    "stats"
   ]
  },
  {
   "cell_type": "code",
   "execution_count": 67,
   "metadata": {},
   "outputs": [
    {
     "name": "stdout",
     "output_type": "stream",
     "text": [
      "             mean  count        std     ci95_hi    ci95_lo\n",
      "churn                                                     \n",
      "False  100.283158   2850  19.801157  101.010141  99.556175\n",
      "True   101.335404    483  21.582307  103.260181  99.410627\n"
     ]
    }
   ],
   "source": [
    "# Сделайте оценку с использованием явной формулы для z интервала (Вариант 3)\n",
    "\n",
    "stats = df.groupby(['churn'])['total day calls'].agg(['mean', 'count', 'std'])\n",
    "\n",
    "ci95_hi = []\n",
    "ci95_lo = []\n",
    "for i in stats.index:\n",
    "    m, c, s = stats.loc[i]\n",
    "    ci95_hi.append(m + 1.96*s/math.sqrt(c))\n",
    "    ci95_lo.append(m - 1.96*s/math.sqrt(c))\n",
    "stats['ci95_hi'] = ci95_hi\n",
    "stats['ci95_lo'] = ci95_lo\n",
    "print(stats)"
   ]
  },
  {
   "cell_type": "code",
   "execution_count": 58,
   "metadata": {},
   "outputs": [],
   "source": [
    "# Определение функции стандартной ошибки среднего\n",
    "import scipy as sp\n",
    "from scipy import stats\n",
    "\n",
    "def variance(xs):\n",
    "    '''Вычисление дисперсии,\n",
    "       несмещенная дисперсия при n <= 30'''\n",
    "    x_hat = xs.mean() \n",
    "    n = len(xs)\n",
    "    n = n-1 if n in range(1, 30) else n  \n",
    "    square_deviation = lambda x : (x - x_hat) ** 2 \n",
    "    return sum( map(square_deviation, xs) ) / n\n",
    "\n",
    "def standard_deviation(xs):\n",
    "    '''Вычисление стандартного отклонения'''\n",
    "    return sp.sqrt(variance(xs))\n",
    "\n",
    "def standard_error(xs):\n",
    "    '''Вычисление стандартной ошибки'''\n",
    "    return standard_deviation(xs) / sp.sqrt(len(xs))"
   ]
  },
  {
   "cell_type": "code",
   "execution_count": 59,
   "metadata": {},
   "outputs": [],
   "source": [
    "# Сделайте оценку с использованием явной формулы для z интервала (Вариант 4)\n",
    "def confidence_interval(p, xs):\n",
    "    '''Доверительный интервал'''\n",
    "    x_hat = xs.mean()\n",
    "    se = standard_error(xs)\n",
    "    '''критическое значение z\n",
    "    Критическое значение z - это число стандартных отклонений, на которые \n",
    "    нужно отойти от среднего значения нормального распределения, чтобы захватить \n",
    "    долю данных, связанную с нужным доверительным интервалом.'''\n",
    "    z_crit = stats.norm.ppf(1 - (1-p) / 2)  #q=0.975 -> 1.96\n",
    "    return [x_hat - z_crit * se, x_hat + z_crit * se]\n",
    "\n"
   ]
  },
  {
   "cell_type": "code",
   "execution_count": 61,
   "metadata": {},
   "outputs": [
    {
     "name": "stdout",
     "output_type": "stream",
     "text": [
      "Доверительный интервал (ДИ):  [99.41265580945537, 103.25815164396079]\n"
     ]
    },
    {
     "name": "stderr",
     "output_type": "stream",
     "text": [
      "C:\\Users\\User\\AppData\\Local\\Temp\\ipykernel_7016\\2737996735.py:16: DeprecationWarning: scipy.sqrt is deprecated and will be removed in SciPy 2.0.0, use numpy.lib.scimath.sqrt instead\n",
      "  return sp.sqrt(variance(xs))\n",
      "C:\\Users\\User\\AppData\\Local\\Temp\\ipykernel_7016\\2737996735.py:20: DeprecationWarning: scipy.sqrt is deprecated and will be removed in SciPy 2.0.0, use numpy.lib.scimath.sqrt instead\n",
      "  return standard_deviation(xs) / sp.sqrt(len(xs))\n"
     ]
    }
   ],
   "source": [
    "def ex_2():\n",
    "   \n",
    "    ci = confidence_interval(0.95, churn_true['total day calls'])\n",
    "    print('Доверительный интервал (ДИ): ', ci)\n",
    "    \n",
    "ex_2()"
   ]
  },
  {
   "cell_type": "code",
   "execution_count": null,
   "metadata": {},
   "outputs": [],
   "source": [
    "1.Сделайте оценку с использованием явной формулы для z интервала, а затем с помощью функций from statsmodels.stats.weightstats import _zconfint_generic. Сравните результаты.\n",
    "\n",
    "Доверительный интервал для среднего по цпт методом _zconfint_generic: (99.98204678079553, 102.68876067262063)     \n",
    "\n",
    "2.Сделайте оценку с использованием явной формулы для z интервала:\n",
    "Вариант 1: Для N=100000 ДИ 101.3358 ... 101.3358\n",
    "Вариант 2,3:    \n",
    "             mean  count        std     ci95_hi    ci95_lo\n",
    "churn                                                     \n",
    "False  100.283158   2850  19.801157  101.010141  99.556175\n",
    "True   101.335404    483  21.582307  103.260181  99.410627\n",
    "\n",
    "Вариант 4:\n",
    "Доверительный интервал (ДИ):  [99.41265580945537, 103.25815164396079]\n",
    "    \n",
    "Вывод:\n",
    "    ДИ можно определить разными способами, методом _zconfint_generic интервал получился более точным."
   ]
  }
 ],
 "metadata": {
  "colab": {
   "collapsed_sections": [],
   "name": "Практика к занятию 12.ipynb",
   "provenance": []
  },
  "kernelspec": {
   "display_name": "Python 3 (ipykernel)",
   "language": "python",
   "name": "python3"
  },
  "language_info": {
   "codemirror_mode": {
    "name": "ipython",
    "version": 3
   },
   "file_extension": ".py",
   "mimetype": "text/x-python",
   "name": "python",
   "nbconvert_exporter": "python",
   "pygments_lexer": "ipython3",
   "version": "3.9.12"
  }
 },
 "nbformat": 4,
 "nbformat_minor": 1
}
