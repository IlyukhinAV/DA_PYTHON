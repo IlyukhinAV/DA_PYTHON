{
 "cells": [
  {
   "cell_type": "code",
   "execution_count": 1,
   "id": "9ec3fd50",
   "metadata": {},
   "outputs": [],
   "source": [
    "%matplotlib inline\n",
    "import pandas as pd\n",
    "import matplotlib.pyplot as plt\n",
    "import seaborn as sns\n",
    "import numpy as np\n",
    "from scipy import stats\n",
    "from tqdm.auto import tqdm"
   ]
  },
  {
   "cell_type": "markdown",
   "id": "d15c7e7a",
   "metadata": {},
   "source": [
    "# Подготовка датасета"
   ]
  },
  {
   "cell_type": "code",
   "execution_count": 2,
   "id": "a93ef539",
   "metadata": {},
   "outputs": [],
   "source": [
    "#импортируем датасет\n",
    "\n",
    "df = pd.read_csv('wiki_movie_plots_deduped.csv', sep=',')"
   ]
  },
  {
   "cell_type": "code",
   "execution_count": 3,
   "id": "5f3f30b8",
   "metadata": {},
   "outputs": [
    {
     "data": {
      "text/html": [
       "<div>\n",
       "<style scoped>\n",
       "    .dataframe tbody tr th:only-of-type {\n",
       "        vertical-align: middle;\n",
       "    }\n",
       "\n",
       "    .dataframe tbody tr th {\n",
       "        vertical-align: top;\n",
       "    }\n",
       "\n",
       "    .dataframe thead th {\n",
       "        text-align: right;\n",
       "    }\n",
       "</style>\n",
       "<table border=\"1\" class=\"dataframe\">\n",
       "  <thead>\n",
       "    <tr style=\"text-align: right;\">\n",
       "      <th></th>\n",
       "      <th>Release Year</th>\n",
       "      <th>Title</th>\n",
       "      <th>Origin/Ethnicity</th>\n",
       "      <th>Director</th>\n",
       "      <th>Cast</th>\n",
       "      <th>Genre</th>\n",
       "      <th>Wiki Page</th>\n",
       "      <th>Plot</th>\n",
       "    </tr>\n",
       "  </thead>\n",
       "  <tbody>\n",
       "    <tr>\n",
       "      <th>0</th>\n",
       "      <td>1901</td>\n",
       "      <td>Kansas Saloon Smashers</td>\n",
       "      <td>American</td>\n",
       "      <td>Unknown</td>\n",
       "      <td>NaN</td>\n",
       "      <td>unknown</td>\n",
       "      <td>https://en.wikipedia.org/wiki/Kansas_Saloon_Sm...</td>\n",
       "      <td>A bartender is working at a saloon, serving dr...</td>\n",
       "    </tr>\n",
       "    <tr>\n",
       "      <th>1</th>\n",
       "      <td>1901</td>\n",
       "      <td>Love by the Light of the Moon</td>\n",
       "      <td>American</td>\n",
       "      <td>Unknown</td>\n",
       "      <td>NaN</td>\n",
       "      <td>unknown</td>\n",
       "      <td>https://en.wikipedia.org/wiki/Love_by_the_Ligh...</td>\n",
       "      <td>The moon, painted with a smiling face hangs ov...</td>\n",
       "    </tr>\n",
       "    <tr>\n",
       "      <th>2</th>\n",
       "      <td>1901</td>\n",
       "      <td>The Martyred Presidents</td>\n",
       "      <td>American</td>\n",
       "      <td>Unknown</td>\n",
       "      <td>NaN</td>\n",
       "      <td>unknown</td>\n",
       "      <td>https://en.wikipedia.org/wiki/The_Martyred_Pre...</td>\n",
       "      <td>The film, just over a minute long, is composed...</td>\n",
       "    </tr>\n",
       "    <tr>\n",
       "      <th>3</th>\n",
       "      <td>1901</td>\n",
       "      <td>Terrible Teddy, the Grizzly King</td>\n",
       "      <td>American</td>\n",
       "      <td>Unknown</td>\n",
       "      <td>NaN</td>\n",
       "      <td>unknown</td>\n",
       "      <td>https://en.wikipedia.org/wiki/Terrible_Teddy,_...</td>\n",
       "      <td>Lasting just 61 seconds and consisting of two ...</td>\n",
       "    </tr>\n",
       "    <tr>\n",
       "      <th>4</th>\n",
       "      <td>1902</td>\n",
       "      <td>Jack and the Beanstalk</td>\n",
       "      <td>American</td>\n",
       "      <td>George S. Fleming, Edwin S. Porter</td>\n",
       "      <td>NaN</td>\n",
       "      <td>unknown</td>\n",
       "      <td>https://en.wikipedia.org/wiki/Jack_and_the_Bea...</td>\n",
       "      <td>The earliest known adaptation of the classic f...</td>\n",
       "    </tr>\n",
       "  </tbody>\n",
       "</table>\n",
       "</div>"
      ],
      "text/plain": [
       "   Release Year                             Title Origin/Ethnicity  \\\n",
       "0          1901            Kansas Saloon Smashers         American   \n",
       "1          1901     Love by the Light of the Moon         American   \n",
       "2          1901           The Martyred Presidents         American   \n",
       "3          1901  Terrible Teddy, the Grizzly King         American   \n",
       "4          1902            Jack and the Beanstalk         American   \n",
       "\n",
       "                             Director Cast    Genre  \\\n",
       "0                             Unknown  NaN  unknown   \n",
       "1                             Unknown  NaN  unknown   \n",
       "2                             Unknown  NaN  unknown   \n",
       "3                             Unknown  NaN  unknown   \n",
       "4  George S. Fleming, Edwin S. Porter  NaN  unknown   \n",
       "\n",
       "                                           Wiki Page  \\\n",
       "0  https://en.wikipedia.org/wiki/Kansas_Saloon_Sm...   \n",
       "1  https://en.wikipedia.org/wiki/Love_by_the_Ligh...   \n",
       "2  https://en.wikipedia.org/wiki/The_Martyred_Pre...   \n",
       "3  https://en.wikipedia.org/wiki/Terrible_Teddy,_...   \n",
       "4  https://en.wikipedia.org/wiki/Jack_and_the_Bea...   \n",
       "\n",
       "                                                Plot  \n",
       "0  A bartender is working at a saloon, serving dr...  \n",
       "1  The moon, painted with a smiling face hangs ov...  \n",
       "2  The film, just over a minute long, is composed...  \n",
       "3  Lasting just 61 seconds and consisting of two ...  \n",
       "4  The earliest known adaptation of the classic f...  "
      ]
     },
     "execution_count": 3,
     "metadata": {},
     "output_type": "execute_result"
    }
   ],
   "source": [
    "df.head(5)"
   ]
  },
  {
   "cell_type": "code",
   "execution_count": 4,
   "id": "c3666ee5",
   "metadata": {},
   "outputs": [],
   "source": [
    "#приводим к нижнему регистру\n",
    "\n",
    "df['Genre_1'] = df['Genre'].str.lower()\n",
    "df['Plot'] = df['Plot'].str.lower()"
   ]
  },
  {
   "cell_type": "code",
   "execution_count": 5,
   "id": "b2f5c70b",
   "metadata": {},
   "outputs": [
    {
     "data": {
      "text/plain": [
       "unknown                          6083\n",
       "drama                            5964\n",
       "comedy                           4379\n",
       "horror                           1167\n",
       "action                           1098\n",
       "                                 ... \n",
       "cbc-tv miniseries                   1\n",
       "bio-drama                           1\n",
       "national film board docudrama       1\n",
       "cult drama                          1\n",
       "horror romantic comedy              1\n",
       "Name: Genre_1, Length: 2265, dtype: int64"
      ]
     },
     "execution_count": 5,
     "metadata": {},
     "output_type": "execute_result"
    }
   ],
   "source": [
    "# количество фильмов по жанрам\n",
    "df['Genre_1'].value_counts()"
   ]
  },
  {
   "cell_type": "code",
   "execution_count": 6,
   "id": "76e68646",
   "metadata": {},
   "outputs": [],
   "source": [
    "# в датасете 2265 жанров, необходимо преобразовать данные для предсказания жанров\n",
    "# тестирую на копии df\n",
    "\n",
    "df_copy = df.copy()"
   ]
  },
  {
   "cell_type": "code",
   "execution_count": 7,
   "id": "8d2cf0ab",
   "metadata": {},
   "outputs": [],
   "source": [
    "#преобразуем данные,чтобы разбить жанры по словам\n",
    "\n",
    "df_copy['Genre_2']=df_copy['Genre_1'].str.replace(',', '/')\n",
    "df_copy['Genre_2']=df_copy['Genre_2'].str.replace(' / ', '/')\n",
    "df_copy['Genre_2']=df_copy['Genre_2'].str.replace('/ ', '/')\n",
    "df_copy['Genre_2']=df_copy['Genre_2'].str.replace(' /', '/')\n",
    "df_copy['Genre_2']=df_copy['Genre_2'].str.replace(' ', '/')\n",
    "df_copy['Genre_2']=df_copy['Genre_2'].str.replace('/&/', '/')\n",
    "df_copy['Genre_2']=df_copy['Genre_2'].str.replace('/-/', '/')\n",
    "df_copy['Genre_2']=df_copy['Genre_2'].str.replace('sci-fi', 'sci_fi')\n",
    "df_copy['Genre_2']=df_copy['Genre_2'].str.replace('bio-pic', 'biopic')\n",
    "df_copy['Genre_2']=df_copy['Genre_2'].str.replace('-', '/')"
   ]
  },
  {
   "cell_type": "code",
   "execution_count": 8,
   "id": "a30456dc",
   "metadata": {},
   "outputs": [
    {
     "data": {
      "text/html": [
       "<div>\n",
       "<style scoped>\n",
       "    .dataframe tbody tr th:only-of-type {\n",
       "        vertical-align: middle;\n",
       "    }\n",
       "\n",
       "    .dataframe tbody tr th {\n",
       "        vertical-align: top;\n",
       "    }\n",
       "\n",
       "    .dataframe thead th {\n",
       "        text-align: right;\n",
       "    }\n",
       "</style>\n",
       "<table border=\"1\" class=\"dataframe\">\n",
       "  <thead>\n",
       "    <tr style=\"text-align: right;\">\n",
       "      <th></th>\n",
       "      <th>Release Year</th>\n",
       "      <th>Title</th>\n",
       "      <th>Origin/Ethnicity</th>\n",
       "      <th>Director</th>\n",
       "      <th>Cast</th>\n",
       "      <th>Genre</th>\n",
       "      <th>Wiki Page</th>\n",
       "      <th>Plot</th>\n",
       "      <th>Genre_1</th>\n",
       "      <th>Genre_2</th>\n",
       "    </tr>\n",
       "  </thead>\n",
       "  <tbody>\n",
       "    <tr>\n",
       "      <th>11892</th>\n",
       "      <td>1992</td>\n",
       "      <td>Shining Through</td>\n",
       "      <td>American</td>\n",
       "      <td>David Seltzer</td>\n",
       "      <td>Michael Douglas, Melanie Griffith, Liam Neeson...</td>\n",
       "      <td>drama</td>\n",
       "      <td>https://en.wikipedia.org/wiki/Shining_Through</td>\n",
       "      <td>in 1940, linda voss (melanie griffith), a youn...</td>\n",
       "      <td>drama</td>\n",
       "      <td>drama</td>\n",
       "    </tr>\n",
       "    <tr>\n",
       "      <th>11338</th>\n",
       "      <td>1990</td>\n",
       "      <td>After Dark, My Sweet</td>\n",
       "      <td>American</td>\n",
       "      <td>James Foley</td>\n",
       "      <td>Jason Patric, Rachel Ward, Bruce Dern</td>\n",
       "      <td>mystery</td>\n",
       "      <td>https://en.wikipedia.org/wiki/After_Dark,_My_S...</td>\n",
       "      <td>ex-boxer kevin \"kid\" collins is a drifter and ...</td>\n",
       "      <td>mystery</td>\n",
       "      <td>mystery</td>\n",
       "    </tr>\n",
       "    <tr>\n",
       "      <th>28771</th>\n",
       "      <td>2015</td>\n",
       "      <td>Mahanayak Vasant Tu</td>\n",
       "      <td>Marathi</td>\n",
       "      <td>Nilesh Jalamkar</td>\n",
       "      <td>Chinmay Mandalekar, Nisha Parulekar, Bharat Ga...</td>\n",
       "      <td>biopic, drama</td>\n",
       "      <td>https://en.wikipedia.org/wiki/Mahanayak_vasant_tu</td>\n",
       "      <td>mahanayak vasnat tu showcases the life of shre...</td>\n",
       "      <td>biopic, drama</td>\n",
       "      <td>biopic/drama</td>\n",
       "    </tr>\n",
       "    <tr>\n",
       "      <th>22928</th>\n",
       "      <td>1958</td>\n",
       "      <td>Al-Tareeq al-Masdood (The Barred Road)</td>\n",
       "      <td>Egyptian</td>\n",
       "      <td>Salah Abouseif</td>\n",
       "      <td>Faten Hamama, Ahmed Mazhar, Shukry Sarhan</td>\n",
       "      <td>drama</td>\n",
       "      <td>https://en.wikipedia.org/wiki/Al-Tareeq_al-Mas...</td>\n",
       "      <td>faten hamama plays fayza, a young student who ...</td>\n",
       "      <td>drama</td>\n",
       "      <td>drama</td>\n",
       "    </tr>\n",
       "    <tr>\n",
       "      <th>34321</th>\n",
       "      <td>1963</td>\n",
       "      <td>Rice</td>\n",
       "      <td>South_Korean</td>\n",
       "      <td>Shin Sang-ok</td>\n",
       "      <td>NaN</td>\n",
       "      <td>unknown</td>\n",
       "      <td>https://en.wikipedia.org/wiki/Rice_(1963_film)</td>\n",
       "      <td>the farmers of muju, cheonbuk province, are no...</td>\n",
       "      <td>unknown</td>\n",
       "      <td>unknown</td>\n",
       "    </tr>\n",
       "  </tbody>\n",
       "</table>\n",
       "</div>"
      ],
      "text/plain": [
       "       Release Year                                   Title Origin/Ethnicity  \\\n",
       "11892          1992                         Shining Through         American   \n",
       "11338          1990                    After Dark, My Sweet         American   \n",
       "28771          2015                     Mahanayak Vasant Tu          Marathi   \n",
       "22928          1958  Al-Tareeq al-Masdood (The Barred Road)         Egyptian   \n",
       "34321          1963                                    Rice     South_Korean   \n",
       "\n",
       "              Director                                               Cast  \\\n",
       "11892    David Seltzer  Michael Douglas, Melanie Griffith, Liam Neeson...   \n",
       "11338      James Foley              Jason Patric, Rachel Ward, Bruce Dern   \n",
       "28771  Nilesh Jalamkar  Chinmay Mandalekar, Nisha Parulekar, Bharat Ga...   \n",
       "22928   Salah Abouseif          Faten Hamama, Ahmed Mazhar, Shukry Sarhan   \n",
       "34321     Shin Sang-ok                                                NaN   \n",
       "\n",
       "               Genre                                          Wiki Page  \\\n",
       "11892          drama      https://en.wikipedia.org/wiki/Shining_Through   \n",
       "11338        mystery  https://en.wikipedia.org/wiki/After_Dark,_My_S...   \n",
       "28771  biopic, drama  https://en.wikipedia.org/wiki/Mahanayak_vasant_tu   \n",
       "22928          drama  https://en.wikipedia.org/wiki/Al-Tareeq_al-Mas...   \n",
       "34321        unknown     https://en.wikipedia.org/wiki/Rice_(1963_film)   \n",
       "\n",
       "                                                    Plot        Genre_1  \\\n",
       "11892  in 1940, linda voss (melanie griffith), a youn...          drama   \n",
       "11338  ex-boxer kevin \"kid\" collins is a drifter and ...        mystery   \n",
       "28771  mahanayak vasnat tu showcases the life of shre...  biopic, drama   \n",
       "22928  faten hamama plays fayza, a young student who ...          drama   \n",
       "34321  the farmers of muju, cheonbuk province, are no...        unknown   \n",
       "\n",
       "            Genre_2  \n",
       "11892         drama  \n",
       "11338       mystery  \n",
       "28771  biopic/drama  \n",
       "22928         drama  \n",
       "34321       unknown  "
      ]
     },
     "execution_count": 8,
     "metadata": {},
     "output_type": "execute_result"
    }
   ],
   "source": [
    "df_copy.sample(5)"
   ]
  },
  {
   "cell_type": "code",
   "execution_count": 9,
   "id": "c74b1b25",
   "metadata": {},
   "outputs": [
    {
     "data": {
      "text/html": [
       "<div>\n",
       "<style scoped>\n",
       "    .dataframe tbody tr th:only-of-type {\n",
       "        vertical-align: middle;\n",
       "    }\n",
       "\n",
       "    .dataframe tbody tr th {\n",
       "        vertical-align: top;\n",
       "    }\n",
       "\n",
       "    .dataframe thead th {\n",
       "        text-align: right;\n",
       "    }\n",
       "</style>\n",
       "<table border=\"1\" class=\"dataframe\">\n",
       "  <thead>\n",
       "    <tr style=\"text-align: right;\">\n",
       "      <th></th>\n",
       "      <th>0</th>\n",
       "      <th>1</th>\n",
       "      <th>2</th>\n",
       "      <th>3</th>\n",
       "      <th>4</th>\n",
       "      <th>5</th>\n",
       "      <th>6</th>\n",
       "      <th>7</th>\n",
       "      <th>8</th>\n",
       "      <th>9</th>\n",
       "      <th>10</th>\n",
       "      <th>11</th>\n",
       "      <th>12</th>\n",
       "    </tr>\n",
       "  </thead>\n",
       "  <tbody>\n",
       "    <tr>\n",
       "      <th>5804</th>\n",
       "      <td>comedy</td>\n",
       "      <td>None</td>\n",
       "      <td>None</td>\n",
       "      <td>None</td>\n",
       "      <td>None</td>\n",
       "      <td>None</td>\n",
       "      <td>None</td>\n",
       "      <td>None</td>\n",
       "      <td>None</td>\n",
       "      <td>None</td>\n",
       "      <td>None</td>\n",
       "      <td>None</td>\n",
       "      <td>None</td>\n",
       "    </tr>\n",
       "    <tr>\n",
       "      <th>34037</th>\n",
       "      <td>unknown</td>\n",
       "      <td>None</td>\n",
       "      <td>None</td>\n",
       "      <td>None</td>\n",
       "      <td>None</td>\n",
       "      <td>None</td>\n",
       "      <td>None</td>\n",
       "      <td>None</td>\n",
       "      <td>None</td>\n",
       "      <td>None</td>\n",
       "      <td>None</td>\n",
       "      <td>None</td>\n",
       "      <td>None</td>\n",
       "    </tr>\n",
       "    <tr>\n",
       "      <th>22690</th>\n",
       "      <td>drama</td>\n",
       "      <td>comedy</td>\n",
       "      <td>None</td>\n",
       "      <td>None</td>\n",
       "      <td>None</td>\n",
       "      <td>None</td>\n",
       "      <td>None</td>\n",
       "      <td>None</td>\n",
       "      <td>None</td>\n",
       "      <td>None</td>\n",
       "      <td>None</td>\n",
       "      <td>None</td>\n",
       "      <td>None</td>\n",
       "    </tr>\n",
       "    <tr>\n",
       "      <th>17971</th>\n",
       "      <td>unknown</td>\n",
       "      <td>None</td>\n",
       "      <td>None</td>\n",
       "      <td>None</td>\n",
       "      <td>None</td>\n",
       "      <td>None</td>\n",
       "      <td>None</td>\n",
       "      <td>None</td>\n",
       "      <td>None</td>\n",
       "      <td>None</td>\n",
       "      <td>None</td>\n",
       "      <td>None</td>\n",
       "      <td>None</td>\n",
       "    </tr>\n",
       "    <tr>\n",
       "      <th>5204</th>\n",
       "      <td>film</td>\n",
       "      <td>noir</td>\n",
       "      <td>None</td>\n",
       "      <td>None</td>\n",
       "      <td>None</td>\n",
       "      <td>None</td>\n",
       "      <td>None</td>\n",
       "      <td>None</td>\n",
       "      <td>None</td>\n",
       "      <td>None</td>\n",
       "      <td>None</td>\n",
       "      <td>None</td>\n",
       "      <td>None</td>\n",
       "    </tr>\n",
       "  </tbody>\n",
       "</table>\n",
       "</div>"
      ],
      "text/plain": [
       "            0       1     2     3     4     5     6     7     8     9     10  \\\n",
       "5804    comedy    None  None  None  None  None  None  None  None  None  None   \n",
       "34037  unknown    None  None  None  None  None  None  None  None  None  None   \n",
       "22690    drama  comedy  None  None  None  None  None  None  None  None  None   \n",
       "17971  unknown    None  None  None  None  None  None  None  None  None  None   \n",
       "5204      film    noir  None  None  None  None  None  None  None  None  None   \n",
       "\n",
       "         11    12  \n",
       "5804   None  None  \n",
       "34037  None  None  \n",
       "22690  None  None  \n",
       "17971  None  None  \n",
       "5204   None  None  "
      ]
     },
     "execution_count": 9,
     "metadata": {},
     "output_type": "execute_result"
    }
   ],
   "source": [
    "# создаем df жанрами, разделенными по столбцам\n",
    "new_df = df_copy['Genre_2'].str.split('/', expand=True)\n",
    "new_df.sample(5)"
   ]
  },
  {
   "cell_type": "code",
   "execution_count": 11,
   "id": "727a04b2",
   "metadata": {},
   "outputs": [],
   "source": [
    "#new_df.to_excel('new_df.xlsx')"
   ]
  },
  {
   "cell_type": "code",
   "execution_count": 10,
   "id": "3dbe0bb9",
   "metadata": {},
   "outputs": [],
   "source": [
    "#добавляем первое слово жанра к df_copy (при перечислении жанров обычно основной указывается вначале)\n",
    "df_copy['Genre_1st_word']=new_df[0]"
   ]
  },
  {
   "cell_type": "code",
   "execution_count": 11,
   "id": "4ddbd6f0",
   "metadata": {},
   "outputs": [],
   "source": [
    "#создадим словарь для обработки df_copy['Origin/Ethnicity']\n",
    "\n",
    "dict_orig ={\n",
    "    'American': 'American', 'British': 'British', 'Bollywood': 'Indian', \n",
    "    'Tamil': 'Indian', 'Telugu': 'Indian', 'Japanese': 'Asian', 'Malayalam': 'Indian',\n",
    "    'Hong Kong': 'Asian', 'Canadian': 'Canadian', 'Australian': 'Australian', 'South_Korean': 'Asian',\n",
    "    'Chinese': 'Asian', 'Kannada': 'Indian', 'Bengali': 'Indian', 'Russian': 'Russian', 'Marathi': 'Indian',\n",
    "    'Filipino': 'Asian', 'Bangladeshi': 'Asian', 'Punjabi': 'Indian', 'Malaysian': 'Asian', 'Turkish':'Turkish',\n",
    "    'Egyptian': 'Egyptian', 'Assamese': 'Indian', 'Maldivian': 'Asian'\n",
    "}"
   ]
  },
  {
   "cell_type": "code",
   "execution_count": 12,
   "id": "1fc2c923",
   "metadata": {},
   "outputs": [],
   "source": [
    "#добавим в df_copy столбец с регионом происхождения\n",
    "df_copy['Origin'] = df_copy['Origin/Ethnicity'].map(dict_orig)"
   ]
  },
  {
   "cell_type": "code",
   "execution_count": 13,
   "id": "6058b651",
   "metadata": {},
   "outputs": [],
   "source": [
    "# произведем некоторые замены в df_copy['Genre_1st_word']\n",
    "df_copy['Genre_1st_word']=df_copy['Genre_1st_word'].str.replace('film', 'film_noir')\n",
    "df_copy['Genre_1st_word']=df_copy['Genre_1st_word'].str.replace('romantic', 'romance')\n",
    "df_copy['Genre_1st_word']=df_copy['Genre_1st_word'].str.replace('animation', 'animated')"
   ]
  },
  {
   "cell_type": "code",
   "execution_count": 14,
   "id": "3837f265",
   "metadata": {},
   "outputs": [],
   "source": [
    "#добавим столбец с количеством фильмов по жаннру\n",
    "df_copy['n_films_by_genre']= df_copy.Genre_1st_word.map(df_copy['Genre_1st_word'].value_counts())"
   ]
  },
  {
   "cell_type": "code",
   "execution_count": 15,
   "id": "0374e94f",
   "metadata": {},
   "outputs": [],
   "source": [
    "#приводим к нижнему регистру df_copy['Plot']\n",
    "df_copy['Plot'] = df_copy['Plot'].str.lower()"
   ]
  },
  {
   "cell_type": "code",
   "execution_count": 16,
   "id": "6668be30",
   "metadata": {},
   "outputs": [
    {
     "name": "stderr",
     "output_type": "stream",
     "text": [
      "C:\\Users\\User\\AppData\\Local\\Temp\\ipykernel_11632\\3468545993.py:2: FutureWarning: The default value of regex will change from True to False in a future version.\n",
      "  df_copy['Plot'] = df['Plot'].str.replace('[^\\w\\s]','')\n"
     ]
    }
   ],
   "source": [
    "#удаляем знаки препинания\n",
    "df_copy['Plot'] = df['Plot'].str.replace('[^\\w\\s]','')"
   ]
  },
  {
   "cell_type": "code",
   "execution_count": 17,
   "id": "a9a0b7b7",
   "metadata": {},
   "outputs": [
    {
     "data": {
      "text/plain": [
       "0        a bartender is working at a saloon serving dri...\n",
       "1        the moon painted with a smiling face hangs ove...\n",
       "2        the film just over a minute long is composed o...\n",
       "3        lasting just 61 seconds and consisting of two ...\n",
       "4        the earliest known adaptation of the classic f...\n",
       "                               ...                        \n",
       "34881    the film begins in 1919 just after world war i...\n",
       "34882    two musicians salih and gürkan described the a...\n",
       "34883    zafer a sailor living with his mother döndü in...\n",
       "34884    the film centres around a young woman named am...\n",
       "34885    the writer orhan şahin returns to istanbul aft...\n",
       "Name: Plot, Length: 34886, dtype: object"
      ]
     },
     "execution_count": 17,
     "metadata": {},
     "output_type": "execute_result"
    }
   ],
   "source": [
    "df_copy['Plot']"
   ]
  },
  {
   "cell_type": "code",
   "execution_count": 18,
   "id": "3545b217",
   "metadata": {},
   "outputs": [
    {
     "data": {
      "text/plain": [
       "drama            6888\n",
       "unknown          6083\n",
       "comedy           5638\n",
       "action           2072\n",
       "romance          1944\n",
       "                 ... \n",
       "physiological       1\n",
       "romance;            1\n",
       "tapas               1\n",
       "outlaw              1\n",
       "travel              1\n",
       "Name: Genre_1st_word, Length: 334, dtype: int64"
      ]
     },
     "execution_count": 18,
     "metadata": {},
     "output_type": "execute_result"
    }
   ],
   "source": [
    "#жанров после обработки осталось 334\n",
    "df_copy['Genre_1st_word'].value_counts()"
   ]
  },
  {
   "cell_type": "code",
   "execution_count": 19,
   "id": "d23f35a2",
   "metadata": {},
   "outputs": [],
   "source": [
    "# модели будем строить на df_copy3, попробуем обработать срез df с количсетвом жанров > 400\n",
    "df_copy3 = df_copy[df_copy['n_films_by_genre'] > 400]"
   ]
  },
  {
   "cell_type": "code",
   "execution_count": 20,
   "id": "f2de9b86",
   "metadata": {},
   "outputs": [],
   "source": [
    "#удалим 'unknown' жанр\n",
    "df_copy3 = df_copy3[df_copy3['Genre_1st_word'] != 'unknown']"
   ]
  },
  {
   "cell_type": "code",
   "execution_count": 21,
   "id": "4f2777d5",
   "metadata": {},
   "outputs": [
    {
     "data": {
      "text/plain": [
       "Index(['Release Year', 'Title', 'Origin/Ethnicity', 'Director', 'Cast',\n",
       "       'Genre', 'Wiki Page', 'Plot', 'Genre_1', 'Genre_2', 'Genre_1st_word',\n",
       "       'Origin', 'n_films_by_genre'],\n",
       "      dtype='object')"
      ]
     },
     "execution_count": 21,
     "metadata": {},
     "output_type": "execute_result"
    }
   ],
   "source": [
    "df_copy3.columns"
   ]
  },
  {
   "cell_type": "code",
   "execution_count": 22,
   "id": "4548ee6f",
   "metadata": {},
   "outputs": [],
   "source": [
    "#удалим ненужные колонки\n",
    "#df_copy3 = df_copy3.drop(['Release Year', 'Origin/Ethnicity',\n",
    "                              'Director', 'Cast', 'Wiki Page',\n",
    "                              'Genre_1', 'Genre_2', 'n_films_by_genre'\n",
    "                             ], axis=1)"
   ]
  },
  {
   "cell_type": "code",
   "execution_count": 21,
   "id": "c9fa0ce3",
   "metadata": {},
   "outputs": [
    {
     "data": {
      "text/plain": [
       "Index(['Release Year', 'Title', 'Origin/Ethnicity', 'Director', 'Cast',\n",
       "       'Genre', 'Wiki Page', 'Plot', 'Genre_1', 'Genre_2', 'Genre_1st_word',\n",
       "       'Origin', 'n_films_by_genre'],\n",
       "      dtype='object')"
      ]
     },
     "execution_count": 21,
     "metadata": {},
     "output_type": "execute_result"
    }
   ],
   "source": [
    "#проверим\n",
    "#df_copy3.columns"
   ]
  },
  {
   "cell_type": "code",
   "execution_count": 22,
   "id": "23a53b45",
   "metadata": {},
   "outputs": [
    {
     "data": {
      "text/plain": [
       "drama        6888\n",
       "comedy       5638\n",
       "action       2072\n",
       "romance      1944\n",
       "horror       1391\n",
       "crime        1278\n",
       "thriller     1061\n",
       "western       924\n",
       "animated      714\n",
       "musical       708\n",
       "adventure     610\n",
       "science       495\n",
       "war           408\n",
       "family        402\n",
       "Name: Genre_1st_word, dtype: int64"
      ]
     },
     "execution_count": 22,
     "metadata": {},
     "output_type": "execute_result"
    }
   ],
   "source": [
    "df_copy3['Genre_1st_word'].value_counts()"
   ]
  },
  {
   "cell_type": "code",
   "execution_count": 24,
   "id": "9a1d8f26",
   "metadata": {},
   "outputs": [
    {
     "data": {
      "text/plain": [
       "American      14814\n",
       "Indian         4507\n",
       "British        2539\n",
       "Asian          1479\n",
       "Canadian        555\n",
       "Australian      394\n",
       "Russian         124\n",
       "Egyptian         63\n",
       "Turkish          58\n",
       "Name: Origin, dtype: int64"
      ]
     },
     "execution_count": 24,
     "metadata": {},
     "output_type": "execute_result"
    }
   ],
   "source": [
    "df_copy3['Origin'].value_counts()"
   ]
  },
  {
   "cell_type": "code",
   "execution_count": 26,
   "id": "10df91a5",
   "metadata": {},
   "outputs": [
    {
     "data": {
      "image/png": "[encoded data removed]",
      "text/plain": [
       "<Figure size 1152x576 with 1 Axes>"
      ]
     },
     "metadata": {
      "needs_background": "light"
     },
     "output_type": "display_data"
    }
   ],
   "source": [
    "fig, ax = plt.subplots(figsize=(16,8))\n",
    "\n",
    "sns.histplot(x = df_copy['Release Year'], bins=[1900, 1910, 1920, 1930, 1940, 1950, 1960, 1970, 1980, 1990, 2000, 2010, 2020])\n",
    "plt.title('ФИЛЬМЫ ПО ГОДУ ВЫПУСКА')\n",
    "plt.xlabel('ГОД')\n",
    "plt.ylabel('КОЛИЧЕСТВО ФИЛЬМОВ')\n",
    "fig.savefig('hist1.png');"
   ]
  },
  {
   "cell_type": "code",
   "execution_count": 27,
   "id": "a858e5be",
   "metadata": {},
   "outputs": [
    {
     "data": {
      "image/png": "[encoded data removed]",
      "text/plain": [
       "<Figure size 1152x576 with 1 Axes>"
      ]
     },
     "metadata": {
      "needs_background": "light"
     },
     "output_type": "display_data"
    }
   ],
   "source": [
    "fig, ax = plt.subplots(figsize=(16,8))\n",
    "\n",
    "sns.countplot(x = df_copy['Origin'],  order = df_copy['Origin'].value_counts().index)\n",
    "plt.gcf().subplots_adjust(bottom=0.15)\n",
    "plt.xticks(rotation = 90)\n",
    "plt.title('ФИЛЬМЫ ПО РЕГИОНУ')\n",
    "plt.xlabel('РЕГИОН')\n",
    "plt.ylabel('КОЛИЧЕСТВО ФИЛЬМОВ')\n",
    "fig.savefig('hist2.png');\n",
    "\n",
    "for rect in ax.patches:\n",
    "    ax.text (rect.get_x() + rect.get_width()  / 2,rect.get_height()+ 0.75,rect.get_height(),horizontalalignment='center', fontsize = 15)\n"
   ]
  },
  {
   "cell_type": "code",
   "execution_count": 28,
   "id": "e841c55e",
   "metadata": {},
   "outputs": [
    {
     "data": {
      "image/png": "[encoded data removed]",
      "text/plain": [
       "<Figure size 1152x576 with 1 Axes>"
      ]
     },
     "metadata": {
      "needs_background": "light"
     },
     "output_type": "display_data"
    }
   ],
   "source": [
    "# гистограмма по регионам, но без жанра 'unknown'\n",
    "\n",
    "fig, ax = plt.subplots(figsize=(16,8))\n",
    "\n",
    "sns.countplot(x = df_copy3['Origin'],  order = df_copy['Origin'].value_counts().index)\n",
    "plt.gcf().subplots_adjust(bottom=0.15)\n",
    "plt.xticks(rotation = 90)\n",
    "plt.title('ФИЛЬМЫ ПО РЕГИОНУ')\n",
    "plt.xlabel('РЕГИОН')\n",
    "plt.ylabel('КОЛИЧЕСТВО ФИЛЬМОВ')\n",
    "fig.savefig('hist3.png');\n",
    "\n",
    "for rect in ax.patches:\n",
    "    ax.text (rect.get_x() + rect.get_width()  / 2,rect.get_height()+ 0.75,rect.get_height(),horizontalalignment='center', fontsize = 15)\n"
   ]
  },
  {
   "cell_type": "code",
   "execution_count": 29,
   "id": "e9160e60",
   "metadata": {},
   "outputs": [
    {
     "data": {
      "text/plain": [
       "6        western\n",
       "7         comedy\n",
       "14        comedy\n",
       "15        comedy\n",
       "16         drama\n",
       "          ...   \n",
       "17369     comedy\n",
       "17371     action\n",
       "17372      crime\n",
       "17373    western\n",
       "17376      drama\n",
       "Name: Genre_1st_word, Length: 14814, dtype: object"
      ]
     },
     "execution_count": 29,
     "metadata": {},
     "output_type": "execute_result"
    }
   ],
   "source": [
    "df_copy3[df_copy3['Origin']=='American']['Genre_1st_word']"
   ]
  },
  {
   "cell_type": "code",
   "execution_count": 30,
   "id": "08f743ea",
   "metadata": {},
   "outputs": [],
   "source": [
    "genre_order = ['drama', 'comedy', 'action', 'romance', 'horror', 'crime', \n",
    "               'thriller', 'western', 'animated', 'musical', 'adventure', 'science', 'war', 'family']"
   ]
  },
  {
   "cell_type": "code",
   "execution_count": 31,
   "id": "3bb68858",
   "metadata": {},
   "outputs": [
    {
     "data": {
      "image/png": "[encoded data removed]",
      "text/plain": [
       "<Figure size 1152x576 with 1 Axes>"
      ]
     },
     "metadata": {
      "needs_background": "light"
     },
     "output_type": "display_data"
    }
   ],
   "source": [
    "fig, ax = plt.subplots(figsize=(16,8))\n",
    "\n",
    "sns.countplot(x = df_copy3[df_copy3['Origin']=='American']['Genre_1st_word'], order = genre_order)\n",
    "plt.gcf().subplots_adjust(bottom=0.15)\n",
    "plt.xticks(rotation = 90)\n",
    "plt.title('АМЕРИКАНСКИЕ ФИЛЬМЫ ПО ЖАНРАМ')\n",
    "plt.xlabel('ЖАНР')\n",
    "plt.ylabel('КОЛИЧЕСТВО ФИЛЬМОВ')\n",
    "fig.savefig('hist4.png');"
   ]
  },
  {
   "cell_type": "code",
   "execution_count": 32,
   "id": "a8af4a3d",
   "metadata": {},
   "outputs": [
    {
     "data": {
      "image/png": "[encoded data removed]",
      "text/plain": [
       "<Figure size 1152x576 with 1 Axes>"
      ]
     },
     "metadata": {
      "needs_background": "light"
     },
     "output_type": "display_data"
    }
   ],
   "source": [
    "fig, ax = plt.subplots(figsize=(16,8))\n",
    "\n",
    "sns.countplot(x = df_copy3[df_copy3['Origin']=='Indian']['Genre_1st_word'], order = genre_order)\n",
    "plt.gcf().subplots_adjust(bottom=0.15)\n",
    "plt.xticks(rotation = 90)\n",
    "plt.title('ИНДИЙСКИЕ ФИЛЬМЫ ПО ЖАНРУ')\n",
    "plt.xlabel('ЖАНР')\n",
    "plt.ylabel('КОЛИЧЕСТВО ФИЛЬМОВ')\n",
    "fig.savefig('hist5.png');"
   ]
  },
  {
   "cell_type": "code",
   "execution_count": 33,
   "id": "cdecf6f4",
   "metadata": {},
   "outputs": [
    {
     "data": {
      "image/png": "[encoded data removed]",
      "text/plain": [
       "<Figure size 1152x576 with 1 Axes>"
      ]
     },
     "metadata": {
      "needs_background": "light"
     },
     "output_type": "display_data"
    }
   ],
   "source": [
    "fig, ax = plt.subplots(figsize=(16,8))\n",
    "\n",
    "sns.countplot(x = df_copy3[df_copy3['Origin']=='British']['Genre_1st_word'], order = genre_order)\n",
    "plt.gcf().subplots_adjust(bottom=0.15)\n",
    "plt.xticks(rotation = 90)\n",
    "plt.title('БРИТАНСКИЕ ФИЛЬМЫ ПО ЖАНРУ')\n",
    "plt.xlabel('ЖАНР')\n",
    "plt.ylabel('КОЛИЧЕСТВО ФИЛЬМОВ')\n",
    "fig.savefig('hist6.png');"
   ]
  },
  {
   "cell_type": "code",
   "execution_count": 34,
   "id": "c8b39773",
   "metadata": {},
   "outputs": [
    {
     "data": {
      "image/png": "[encoded data removed]",
      "text/plain": [
       "<Figure size 1152x576 with 1 Axes>"
      ]
     },
     "metadata": {
      "needs_background": "light"
     },
     "output_type": "display_data"
    }
   ],
   "source": [
    "fig, ax = plt.subplots(figsize=(16,8))\n",
    "\n",
    "sns.countplot(x = df_copy3[df_copy3['Origin']=='Asian']['Genre_1st_word'], order = genre_order)\n",
    "plt.gcf().subplots_adjust(bottom=0.15)\n",
    "plt.xticks(rotation = 90)\n",
    "plt.title('АЗИАТСКИЕ ФИЛЬМЫ ПО ЖАНРУ')\n",
    "plt.xlabel('ЖАНР')\n",
    "plt.ylabel('КОЛИЧЕСТВО ФИЛЬМОВ')\n",
    "fig.savefig('hist7.png');"
   ]
  },
  {
   "cell_type": "code",
   "execution_count": 35,
   "id": "158cc720",
   "metadata": {},
   "outputs": [],
   "source": [
    "# создадим df для анализа популярных регионов\n",
    "top_regs = ['American', 'Indian', 'British', 'Asian']\n",
    "df_copy3_top_regs = df_copy3.loc[df_copy3['Origin'].isin(top_regs)] "
   ]
  },
  {
   "cell_type": "code",
   "execution_count": 36,
   "id": "4287e737",
   "metadata": {},
   "outputs": [
    {
     "data": {
      "image/png": "[encoded data removed]",
      "text/plain": [
       "<Figure size 1152x576 with 1 Axes>"
      ]
     },
     "metadata": {
      "needs_background": "light"
     },
     "output_type": "display_data"
    }
   ],
   "source": [
    "fig, ax = plt.subplots(figsize=(16,8))\n",
    "\n",
    "sns.countplot(x = df_copy3_top_regs['Genre_1st_word'], hue = df_copy3_top_regs['Origin'], order = genre_order)\n",
    "plt.gcf().subplots_adjust(bottom=0.15)\n",
    "plt.xticks(rotation = 90)\n",
    "plt.title('ФИЛЬМЫ ПО ТОП_РЕГИОНАМ ')\n",
    "plt.xlabel('ЖАНР')\n",
    "plt.ylabel('КОЛИЧЕСТВО ФИЛЬМОВ')\n",
    "fig.savefig('hist8.png');"
   ]
  },
  {
   "cell_type": "code",
   "execution_count": 37,
   "id": "f9ccf263",
   "metadata": {},
   "outputs": [],
   "source": [
    "from nltk.corpus import stopwords\n",
    "stop = stopwords.words('english')"
   ]
  },
  {
   "cell_type": "code",
   "execution_count": 38,
   "id": "1c45ecb0",
   "metadata": {},
   "outputs": [
    {
     "name": "stderr",
     "output_type": "stream",
     "text": [
      "C:\\Users\\User\\AppData\\Local\\Temp\\ipykernel_11632\\408903326.py:2: SettingWithCopyWarning: \n",
      "A value is trying to be set on a copy of a slice from a DataFrame.\n",
      "Try using .loc[row_indexer,col_indexer] = value instead\n",
      "\n",
      "See the caveats in the documentation: https://pandas.pydata.org/pandas-docs/stable/user_guide/indexing.html#returning-a-view-versus-a-copy\n",
      "  df_copy3_top_regs['Plot_no_stopwords'] = df_copy3_top_regs['Plot'].apply(lambda x: ' '.join([word for word in x.split() if word not in (stop)]))\n"
     ]
    }
   ],
   "source": [
    "#исключим стоп-слова\n",
    "df_copy3_top_regs['Plot_no_stopwords'] = df_copy3_top_regs['Plot'].apply(lambda x: ' '.join([word for word in x.split() if word not in (stop)]))"
   ]
  },
  {
   "cell_type": "code",
   "execution_count": 39,
   "id": "5c2b7de6",
   "metadata": {},
   "outputs": [
    {
     "data": {
      "text/plain": [
       "[('one', 19703),\n",
       " ('back', 15947),\n",
       " ('tells', 14171),\n",
       " ('two', 13946),\n",
       " ('father', 13317),\n",
       " ('love', 12856),\n",
       " ('home', 12381),\n",
       " ('new', 12344),\n",
       " ('get', 12046),\n",
       " ('later', 11753),\n",
       " ('also', 11632),\n",
       " ('house', 11625),\n",
       " ('man', 11346),\n",
       " ('police', 11282),\n",
       " ('time', 11199),\n",
       " ('finds', 10964),\n",
       " ('family', 10848),\n",
       " ('life', 10714),\n",
       " ('find', 10416),\n",
       " ('however', 10148),\n",
       " ('goes', 9956),\n",
       " ('day', 9672),\n",
       " ('takes', 9651),\n",
       " ('go', 9405),\n",
       " ('take', 8996),\n",
       " ('away', 8930),\n",
       " ('mother', 8906),\n",
       " ('help', 8801),\n",
       " ('money', 8731),\n",
       " ('wife', 8730),\n",
       " ('gets', 8694),\n",
       " ('film', 8561),\n",
       " ('tries', 8515),\n",
       " ('night', 8247),\n",
       " ('son', 7896),\n",
       " ('killed', 7747),\n",
       " ('first', 7676),\n",
       " ('friend', 7646),\n",
       " ('men', 7562),\n",
       " ('next', 7409),\n",
       " ('car', 7384),\n",
       " ('young', 7294),\n",
       " ('death', 7227),\n",
       " ('decides', 7096),\n",
       " ('friends', 7017),\n",
       " ('leaves', 6983),\n",
       " ('daughter', 6950),\n",
       " ('becomes', 6941),\n",
       " ('leave', 6940),\n",
       " ('comes', 6903)]"
      ]
     },
     "execution_count": 39,
     "metadata": {},
     "output_type": "execute_result"
    }
   ],
   "source": [
    "#Топ чарт слов в сюжете (Plot)\n",
    "from collections import Counter\n",
    "Counter(\" \".join(df_copy3_top_regs['Plot_no_stopwords']).split()).most_common(50)"
   ]
  },
  {
   "cell_type": "code",
   "execution_count": 40,
   "id": "829f0048",
   "metadata": {},
   "outputs": [],
   "source": [
    "from nltk.stem.wordnet import WordNetLemmatizer"
   ]
  },
  {
   "cell_type": "code",
   "execution_count": 41,
   "id": "078ba514",
   "metadata": {},
   "outputs": [],
   "source": [
    "import re\n",
    "import nltk\n",
    "import string\n",
    "from nltk.corpus import stopwords\n",
    "from nltk import word_tokenize, FreqDist\n",
    "from nltk.stem import WordNetLemmatizer"
   ]
  },
  {
   "cell_type": "code",
   "execution_count": 42,
   "id": "d9ce70ea",
   "metadata": {},
   "outputs": [
    {
     "name": "stderr",
     "output_type": "stream",
     "text": [
      "C:\\Users\\User\\AppData\\Local\\Temp\\ipykernel_11632\\3893461840.py:2: SettingWithCopyWarning: \n",
      "A value is trying to be set on a copy of a slice from a DataFrame.\n",
      "Try using .loc[row_indexer,col_indexer] = value instead\n",
      "\n",
      "See the caveats in the documentation: https://pandas.pydata.org/pandas-docs/stable/user_guide/indexing.html#returning-a-view-versus-a-copy\n",
      "  df_copy3_top_regs['word_tokens'] = df_copy3_top_regs.apply(lambda row: nltk.word_tokenize(row['Plot_no_stopwords']), axis=1)\n"
     ]
    }
   ],
   "source": [
    "#проведем токенизацию\n",
    "df_copy3_top_regs['word_tokens'] = df_copy3_top_regs.apply(lambda row: nltk.word_tokenize(row['Plot_no_stopwords']), axis=1)"
   ]
  },
  {
   "cell_type": "code",
   "execution_count": 43,
   "id": "8b48a403",
   "metadata": {},
   "outputs": [
    {
     "data": {
      "text/plain": [
       "6        [film, opens, two, bandits, breaking, railroad...\n",
       "7        [film, family, move, suburbs, hoping, quiet, l...\n",
       "14       [heading, baseball, game, nearby, ballpark, sp...\n",
       "15       [plot, black, woman, going, dentist, toothache...\n",
       "16       [beautiful, summer, day, father, mother, take,...\n",
       "                               ...                        \n",
       "34524    [tae, gunho, jung, jaeyoung, best, debt, colle...\n",
       "34525    [wedding, anniversary, han, chulmin, jang, hyu...\n",
       "34526    [arts, professor, jung, jiwoo, kim, sanghyun, ...\n",
       "34528    [film, centers, around, young, ambitious, woma...\n",
       "34529    [jogoo, street, magician, lee, minki, notices,...\n",
       "Name: word_tokens, Length: 23339, dtype: object"
      ]
     },
     "execution_count": 43,
     "metadata": {},
     "output_type": "execute_result"
    }
   ],
   "source": [
    "df_copy3_top_regs['word_tokens']"
   ]
  },
  {
   "cell_type": "code",
   "execution_count": 44,
   "id": "ed5dc7a8",
   "metadata": {},
   "outputs": [
    {
     "name": "stderr",
     "output_type": "stream",
     "text": [
      "C:\\Users\\User\\AppData\\Local\\Temp\\ipykernel_11632\\2019470857.py:3: SettingWithCopyWarning: \n",
      "A value is trying to be set on a copy of a slice from a DataFrame.\n",
      "Try using .loc[row_indexer,col_indexer] = value instead\n",
      "\n",
      "See the caveats in the documentation: https://pandas.pydata.org/pandas-docs/stable/user_guide/indexing.html#returning-a-view-versus-a-copy\n",
      "  df_copy3_top_regs['lemmatize'] = df_copy3_top_regs['word_tokens'].apply(\n"
     ]
    }
   ],
   "source": [
    "#проведем лемматизацию\n",
    "lmtzr = WordNetLemmatizer()\n",
    "df_copy3_top_regs['lemmatize'] = df_copy3_top_regs['word_tokens'].apply(\n",
    "                    lambda lst:[lmtzr.lemmatize(word) for word in lst])"
   ]
  },
  {
   "cell_type": "code",
   "execution_count": 45,
   "id": "22e697be",
   "metadata": {},
   "outputs": [
    {
     "data": {
      "text/plain": [
       "6        [film, open, two, bandit, breaking, railroad, ...\n",
       "7        [film, family, move, suburb, hoping, quiet, li...\n",
       "14       [heading, baseball, game, nearby, ballpark, sp...\n",
       "15       [plot, black, woman, going, dentist, toothache...\n",
       "16       [beautiful, summer, day, father, mother, take,...\n",
       "                               ...                        \n",
       "34524    [tae, gunho, jung, jaeyoung, best, debt, colle...\n",
       "34525    [wedding, anniversary, han, chulmin, jang, hyu...\n",
       "34526    [art, professor, jung, jiwoo, kim, sanghyun, s...\n",
       "34528    [film, center, around, young, ambitious, woman...\n",
       "34529    [jogoo, street, magician, lee, minki, notice, ...\n",
       "Name: lemmatize, Length: 23339, dtype: object"
      ]
     },
     "execution_count": 45,
     "metadata": {},
     "output_type": "execute_result"
    }
   ],
   "source": [
    "df_copy3_top_regs['lemmatize']"
   ]
  },
  {
   "cell_type": "code",
   "execution_count": 46,
   "id": "ec064d2b",
   "metadata": {},
   "outputs": [
    {
     "name": "stderr",
     "output_type": "stream",
     "text": [
      "C:\\Users\\User\\AppData\\Local\\Temp\\ipykernel_11632\\1083063548.py:2: SettingWithCopyWarning: \n",
      "A value is trying to be set on a copy of a slice from a DataFrame.\n",
      "Try using .loc[row_indexer,col_indexer] = value instead\n",
      "\n",
      "See the caveats in the documentation: https://pandas.pydata.org/pandas-docs/stable/user_guide/indexing.html#returning-a-view-versus-a-copy\n",
      "  df_copy3_top_regs['Plot_2'] = df_copy3_top_regs['lemmatize'].apply(lambda x : \" \".join(x))\n"
     ]
    }
   ],
   "source": [
    "#соберем обработанную версию Plot\n",
    "df_copy3_top_regs['Plot_2'] = df_copy3_top_regs['lemmatize'].apply(lambda x : \" \".join(x))"
   ]
  },
  {
   "cell_type": "code",
   "execution_count": 47,
   "id": "b52e37c5",
   "metadata": {},
   "outputs": [
    {
     "data": {
      "text/plain": [
       "6        film open two bandit breaking railroad telegra...\n",
       "7        film family move suburb hoping quiet life thin...\n",
       "14       heading baseball game nearby ballpark sport fa...\n",
       "15       plot black woman going dentist toothache given...\n",
       "16       beautiful summer day father mother take daught...\n",
       "                               ...                        \n",
       "34524    tae gunho jung jaeyoung best debt collection a...\n",
       "34525    wedding anniversary han chulmin jang hyuk driv...\n",
       "34526    art professor jung jiwoo kim sanghyun searchin...\n",
       "34528    film center around young ambitious woman named...\n",
       "34529    jogoo street magician lee minki notice miserab...\n",
       "Name: Plot_2, Length: 23339, dtype: object"
      ]
     },
     "execution_count": 47,
     "metadata": {},
     "output_type": "execute_result"
    }
   ],
   "source": [
    "df_copy3_top_regs['Plot_2']"
   ]
  },
  {
   "cell_type": "code",
   "execution_count": 48,
   "id": "747495d3",
   "metadata": {},
   "outputs": [
    {
     "data": {
      "text/plain": [
       "[('find', 21380),\n",
       " ('get', 20740),\n",
       " ('one', 20129),\n",
       " ('go', 19366),\n",
       " ('take', 18647),\n",
       " ('tell', 17034),\n",
       " ('back', 16102),\n",
       " ('father', 15576),\n",
       " ('love', 15005),\n",
       " ('friend', 14665),\n",
       " ('life', 14340),\n",
       " ('two', 13951),\n",
       " ('home', 12572),\n",
       " ('day', 12425),\n",
       " ('new', 12344),\n",
       " ('time', 12329),\n",
       " ('family', 12230),\n",
       " ('return', 12083),\n",
       " ('man', 11904),\n",
       " ('house', 11860),\n",
       " ('make', 11778),\n",
       " ('later', 11753),\n",
       " ('come', 11679),\n",
       " ('also', 11632),\n",
       " ('kill', 11372),\n",
       " ('try', 11371),\n",
       " ('police', 11320),\n",
       " ('see', 10961),\n",
       " ('meet', 10797),\n",
       " ('help', 10519),\n",
       " ('however', 10148),\n",
       " ('mother', 10022),\n",
       " ('wife', 9545),\n",
       " ('film', 9366),\n",
       " ('end', 9113),\n",
       " ('son', 9022),\n",
       " ('away', 8930),\n",
       " ('woman', 8853),\n",
       " ('money', 8747),\n",
       " ('give', 8685),\n",
       " ('night', 8463),\n",
       " ('begin', 8416),\n",
       " ('escape', 8124),\n",
       " ('year', 8065),\n",
       " ('girl', 8036),\n",
       " ('car', 7961),\n",
       " ('daughter', 7919),\n",
       " ('killed', 7747),\n",
       " ('death', 7733),\n",
       " ('men', 7704)]"
      ]
     },
     "execution_count": 48,
     "metadata": {},
     "output_type": "execute_result"
    }
   ],
   "source": [
    "#топ-чарт слов\n",
    "Counter(\" \".join(df_copy3_top_regs['Plot_2']).split()).most_common(50)"
   ]
  },
  {
   "cell_type": "code",
   "execution_count": 49,
   "id": "1a2b7c7a",
   "metadata": {},
   "outputs": [
    {
     "data": {
      "text/html": [
       "<div>\n",
       "<style scoped>\n",
       "    .dataframe tbody tr th:only-of-type {\n",
       "        vertical-align: middle;\n",
       "    }\n",
       "\n",
       "    .dataframe tbody tr th {\n",
       "        vertical-align: top;\n",
       "    }\n",
       "\n",
       "    .dataframe thead th {\n",
       "        text-align: right;\n",
       "    }\n",
       "</style>\n",
       "<table border=\"1\" class=\"dataframe\">\n",
       "  <thead>\n",
       "    <tr style=\"text-align: right;\">\n",
       "      <th></th>\n",
       "      <th>Release Year</th>\n",
       "      <th>Title</th>\n",
       "      <th>Origin/Ethnicity</th>\n",
       "      <th>Director</th>\n",
       "      <th>Cast</th>\n",
       "      <th>Genre</th>\n",
       "      <th>Wiki Page</th>\n",
       "      <th>Plot</th>\n",
       "      <th>Genre_1</th>\n",
       "      <th>Genre_2</th>\n",
       "      <th>Genre_1st_word</th>\n",
       "      <th>Origin</th>\n",
       "      <th>n_films_by_genre</th>\n",
       "      <th>Plot_no_stopwords</th>\n",
       "      <th>word_tokens</th>\n",
       "      <th>lemmatize</th>\n",
       "      <th>Plot_2</th>\n",
       "    </tr>\n",
       "  </thead>\n",
       "  <tbody>\n",
       "    <tr>\n",
       "      <th>25369</th>\n",
       "      <td>1985</td>\n",
       "      <td>Mohabbat</td>\n",
       "      <td>Bollywood</td>\n",
       "      <td>Bapu</td>\n",
       "      <td>Anil Kapoor, Vijayata Pandit, Aruna Irani</td>\n",
       "      <td>romance</td>\n",
       "      <td>https://en.wikipedia.org/wiki/Mohabbat_(1985_f...</td>\n",
       "      <td>shekhar is in love with roopa and would like t...</td>\n",
       "      <td>romance</td>\n",
       "      <td>romance</td>\n",
       "      <td>romance</td>\n",
       "      <td>Indian</td>\n",
       "      <td>1944</td>\n",
       "      <td>shekhar love roopa would like marry roopa daug...</td>\n",
       "      <td>[shekhar, love, roopa, would, like, marry, roo...</td>\n",
       "      <td>[shekhar, love, roopa, would, like, marry, roo...</td>\n",
       "      <td>shekhar love roopa would like marry roopa daug...</td>\n",
       "    </tr>\n",
       "    <tr>\n",
       "      <th>19449</th>\n",
       "      <td>1959</td>\n",
       "      <td>Horrors of the Black Museum</td>\n",
       "      <td>British</td>\n",
       "      <td>Arthur Crabtree</td>\n",
       "      <td>Michael Gough, June Cunningham</td>\n",
       "      <td>horror</td>\n",
       "      <td>https://en.wikipedia.org/wiki/Horrors_of_the_B...</td>\n",
       "      <td>frustrated thriller writer edmond bancroft mic...</td>\n",
       "      <td>horror</td>\n",
       "      <td>horror</td>\n",
       "      <td>horror</td>\n",
       "      <td>British</td>\n",
       "      <td>1391</td>\n",
       "      <td>frustrated thriller writer edmond bancroft mic...</td>\n",
       "      <td>[frustrated, thriller, writer, edmond, bancrof...</td>\n",
       "      <td>[frustrated, thriller, writer, edmond, bancrof...</td>\n",
       "      <td>frustrated thriller writer edmond bancroft mic...</td>\n",
       "    </tr>\n",
       "    <tr>\n",
       "      <th>12077</th>\n",
       "      <td>1993</td>\n",
       "      <td>Sniper</td>\n",
       "      <td>American</td>\n",
       "      <td>Luis Llosa</td>\n",
       "      <td>Tom Berenger, Billy Zane</td>\n",
       "      <td>action</td>\n",
       "      <td>https://en.wikipedia.org/wiki/Sniper_(1993_film)</td>\n",
       "      <td>master gunnery sergeant thomas beckett berenge...</td>\n",
       "      <td>action</td>\n",
       "      <td>action</td>\n",
       "      <td>action</td>\n",
       "      <td>American</td>\n",
       "      <td>2072</td>\n",
       "      <td>master gunnery sergeant thomas beckett berenge...</td>\n",
       "      <td>[master, gunnery, sergeant, thomas, beckett, b...</td>\n",
       "      <td>[master, gunnery, sergeant, thomas, beckett, b...</td>\n",
       "      <td>master gunnery sergeant thomas beckett berenge...</td>\n",
       "    </tr>\n",
       "    <tr>\n",
       "      <th>33854</th>\n",
       "      <td>2016</td>\n",
       "      <td>What a Wonderful Family!</td>\n",
       "      <td>Japanese</td>\n",
       "      <td>Yoji Yamada</td>\n",
       "      <td>Isao Hashizume, Kazuko Yoshiyuki, Masahiko Nis...</td>\n",
       "      <td>comedy-drama, slice of life, sci-fi</td>\n",
       "      <td>https://en.wikipedia.org/wiki/What_a_Wonderful...</td>\n",
       "      <td>a husband isao hashizume and wife kazuko yoshi...</td>\n",
       "      <td>comedy-drama, slice of life, sci-fi</td>\n",
       "      <td>comedy/drama/slice/of/life/sci_fi</td>\n",
       "      <td>comedy</td>\n",
       "      <td>Asian</td>\n",
       "      <td>5638</td>\n",
       "      <td>husband isao hashizume wife kazuko yoshiyuki m...</td>\n",
       "      <td>[husband, isao, hashizume, wife, kazuko, yoshi...</td>\n",
       "      <td>[husband, isao, hashizume, wife, kazuko, yoshi...</td>\n",
       "      <td>husband isao hashizume wife kazuko yoshiyuki m...</td>\n",
       "    </tr>\n",
       "    <tr>\n",
       "      <th>5363</th>\n",
       "      <td>1951</td>\n",
       "      <td>The Flying Cat</td>\n",
       "      <td>American</td>\n",
       "      <td>Hanna-Barbera</td>\n",
       "      <td>Tom and Jerry</td>\n",
       "      <td>animation</td>\n",
       "      <td>https://en.wikipedia.org/wiki/The_Flying_Cat</td>\n",
       "      <td>tom tries to capture a sleeping cuckoo but jer...</td>\n",
       "      <td>animation</td>\n",
       "      <td>animation</td>\n",
       "      <td>animated</td>\n",
       "      <td>American</td>\n",
       "      <td>714</td>\n",
       "      <td>tom tries capture sleeping cuckoo jerry trips ...</td>\n",
       "      <td>[tom, tries, capture, sleeping, cuckoo, jerry,...</td>\n",
       "      <td>[tom, try, capture, sleeping, cuckoo, jerry, t...</td>\n",
       "      <td>tom try capture sleeping cuckoo jerry trip cag...</td>\n",
       "    </tr>\n",
       "  </tbody>\n",
       "</table>\n",
       "</div>"
      ],
      "text/plain": [
       "       Release Year                        Title Origin/Ethnicity  \\\n",
       "25369          1985                     Mohabbat        Bollywood   \n",
       "19449          1959  Horrors of the Black Museum          British   \n",
       "12077          1993                       Sniper         American   \n",
       "33854          2016     What a Wonderful Family!         Japanese   \n",
       "5363           1951               The Flying Cat         American   \n",
       "\n",
       "              Director                                               Cast  \\\n",
       "25369             Bapu          Anil Kapoor, Vijayata Pandit, Aruna Irani   \n",
       "19449  Arthur Crabtree                     Michael Gough, June Cunningham   \n",
       "12077       Luis Llosa                           Tom Berenger, Billy Zane   \n",
       "33854      Yoji Yamada  Isao Hashizume, Kazuko Yoshiyuki, Masahiko Nis...   \n",
       "5363     Hanna-Barbera                                      Tom and Jerry   \n",
       "\n",
       "                                     Genre  \\\n",
       "25369                              romance   \n",
       "19449                               horror   \n",
       "12077                               action   \n",
       "33854  comedy-drama, slice of life, sci-fi   \n",
       "5363                             animation   \n",
       "\n",
       "                                               Wiki Page  \\\n",
       "25369  https://en.wikipedia.org/wiki/Mohabbat_(1985_f...   \n",
       "19449  https://en.wikipedia.org/wiki/Horrors_of_the_B...   \n",
       "12077   https://en.wikipedia.org/wiki/Sniper_(1993_film)   \n",
       "33854  https://en.wikipedia.org/wiki/What_a_Wonderful...   \n",
       "5363        https://en.wikipedia.org/wiki/The_Flying_Cat   \n",
       "\n",
       "                                                    Plot  \\\n",
       "25369  shekhar is in love with roopa and would like t...   \n",
       "19449  frustrated thriller writer edmond bancroft mic...   \n",
       "12077  master gunnery sergeant thomas beckett berenge...   \n",
       "33854  a husband isao hashizume and wife kazuko yoshi...   \n",
       "5363   tom tries to capture a sleeping cuckoo but jer...   \n",
       "\n",
       "                                   Genre_1                            Genre_2  \\\n",
       "25369                              romance                            romance   \n",
       "19449                               horror                             horror   \n",
       "12077                               action                             action   \n",
       "33854  comedy-drama, slice of life, sci-fi  comedy/drama/slice/of/life/sci_fi   \n",
       "5363                             animation                          animation   \n",
       "\n",
       "      Genre_1st_word    Origin  n_films_by_genre  \\\n",
       "25369        romance    Indian              1944   \n",
       "19449         horror   British              1391   \n",
       "12077         action  American              2072   \n",
       "33854         comedy     Asian              5638   \n",
       "5363        animated  American               714   \n",
       "\n",
       "                                       Plot_no_stopwords  \\\n",
       "25369  shekhar love roopa would like marry roopa daug...   \n",
       "19449  frustrated thriller writer edmond bancroft mic...   \n",
       "12077  master gunnery sergeant thomas beckett berenge...   \n",
       "33854  husband isao hashizume wife kazuko yoshiyuki m...   \n",
       "5363   tom tries capture sleeping cuckoo jerry trips ...   \n",
       "\n",
       "                                             word_tokens  \\\n",
       "25369  [shekhar, love, roopa, would, like, marry, roo...   \n",
       "19449  [frustrated, thriller, writer, edmond, bancrof...   \n",
       "12077  [master, gunnery, sergeant, thomas, beckett, b...   \n",
       "33854  [husband, isao, hashizume, wife, kazuko, yoshi...   \n",
       "5363   [tom, tries, capture, sleeping, cuckoo, jerry,...   \n",
       "\n",
       "                                               lemmatize  \\\n",
       "25369  [shekhar, love, roopa, would, like, marry, roo...   \n",
       "19449  [frustrated, thriller, writer, edmond, bancrof...   \n",
       "12077  [master, gunnery, sergeant, thomas, beckett, b...   \n",
       "33854  [husband, isao, hashizume, wife, kazuko, yoshi...   \n",
       "5363   [tom, try, capture, sleeping, cuckoo, jerry, t...   \n",
       "\n",
       "                                                  Plot_2  \n",
       "25369  shekhar love roopa would like marry roopa daug...  \n",
       "19449  frustrated thriller writer edmond bancroft mic...  \n",
       "12077  master gunnery sergeant thomas beckett berenge...  \n",
       "33854  husband isao hashizume wife kazuko yoshiyuki m...  \n",
       "5363   tom try capture sleeping cuckoo jerry trip cag...  "
      ]
     },
     "execution_count": 49,
     "metadata": {},
     "output_type": "execute_result"
    }
   ],
   "source": [
    "df_copy3_top_regs.sample(5)"
   ]
  },
  {
   "cell_type": "code",
   "execution_count": 50,
   "id": "e4bef06a",
   "metadata": {},
   "outputs": [],
   "source": [
    "American = df_copy3_top_regs[df_copy3_top_regs['Origin'] == 'American']"
   ]
  },
  {
   "cell_type": "code",
   "execution_count": 51,
   "id": "35357c13",
   "metadata": {},
   "outputs": [
    {
     "data": {
      "text/plain": [
       "[('find', 14656),\n",
       " ('one', 13182),\n",
       " ('go', 13013),\n",
       " ('get', 12691),\n",
       " ('take', 12679),\n",
       " ('tell', 11958),\n",
       " ('back', 11658),\n",
       " ('new', 9962),\n",
       " ('two', 9880),\n",
       " ('father', 9111)]"
      ]
     },
     "execution_count": 51,
     "metadata": {},
     "output_type": "execute_result"
    }
   ],
   "source": [
    "Counter(\" \".join(American['Plot_2']).split()).most_common(10)"
   ]
  },
  {
   "cell_type": "code",
   "execution_count": 52,
   "id": "d28df9ff",
   "metadata": {},
   "outputs": [],
   "source": [
    "Indian = df_copy3_top_regs[df_copy3_top_regs['Origin'] == 'Indian']"
   ]
  },
  {
   "cell_type": "code",
   "execution_count": 53,
   "id": "c626a866",
   "metadata": {},
   "outputs": [
    {
     "data": {
      "text/plain": [
       "[('get', 6053),\n",
       " ('love', 5950),\n",
       " ('father', 4582),\n",
       " ('one', 4055),\n",
       " ('life', 3964),\n",
       " ('friend', 3954),\n",
       " ('go', 3897),\n",
       " ('come', 3801),\n",
       " ('find', 3798),\n",
       " ('family', 3793)]"
      ]
     },
     "execution_count": 53,
     "metadata": {},
     "output_type": "execute_result"
    }
   ],
   "source": [
    "Counter(\" \".join(Indian['Plot_2']).split()).most_common(10)"
   ]
  },
  {
   "cell_type": "code",
   "execution_count": 54,
   "id": "11679ce2",
   "metadata": {},
   "outputs": [],
   "source": [
    "British = df_copy3_top_regs[df_copy3_top_regs['Origin'] == 'British']"
   ]
  },
  {
   "cell_type": "code",
   "execution_count": 55,
   "id": "2ab6fe59",
   "metadata": {},
   "outputs": [
    {
     "data": {
      "text/plain": [
       "[('find', 1754),\n",
       " ('one', 1495),\n",
       " ('go', 1489),\n",
       " ('take', 1406),\n",
       " ('tell', 1203),\n",
       " ('back', 1156),\n",
       " ('get', 1152),\n",
       " ('two', 1080),\n",
       " ('life', 1071),\n",
       " ('return', 1049)]"
      ]
     },
     "execution_count": 55,
     "metadata": {},
     "output_type": "execute_result"
    }
   ],
   "source": [
    "Counter(\" \".join(British['Plot_2']).split()).most_common(10)"
   ]
  },
  {
   "cell_type": "code",
   "execution_count": 56,
   "id": "f59d3646",
   "metadata": {},
   "outputs": [],
   "source": [
    "Asian = df_copy3_top_regs[df_copy3_top_regs['Origin'] == 'Asian']"
   ]
  },
  {
   "cell_type": "code",
   "execution_count": 57,
   "id": "4dfaa553",
   "metadata": {},
   "outputs": [
    {
     "data": {
      "text/plain": [
       "[('one', 1397),\n",
       " ('find', 1172),\n",
       " ('go', 967),\n",
       " ('take', 952),\n",
       " ('life', 941),\n",
       " ('two', 913),\n",
       " ('back', 902),\n",
       " ('time', 893),\n",
       " ('friend', 893),\n",
       " ('father', 856)]"
      ]
     },
     "execution_count": 57,
     "metadata": {},
     "output_type": "execute_result"
    }
   ],
   "source": [
    "Counter(\" \".join(Asian['Plot_2']).split()).most_common(10)"
   ]
  },
  {
   "cell_type": "code",
   "execution_count": 58,
   "id": "d6067453",
   "metadata": {},
   "outputs": [],
   "source": [
    "d = Counter(\" \".join(Asian['Plot_2']).split()).most_common(10)\n",
    "df1 = pd.DataFrame(d)"
   ]
  },
  {
   "cell_type": "code",
   "execution_count": 59,
   "id": "e1d12a0f",
   "metadata": {},
   "outputs": [],
   "source": [
    "df1 = pd.DataFrame(Counter(\" \".join(Asian['Plot_2']).split()).most_common(10))"
   ]
  },
  {
   "cell_type": "code",
   "execution_count": 60,
   "id": "54ad55aa",
   "metadata": {},
   "outputs": [],
   "source": [
    "df1.columns =['top_words','N_top_words']"
   ]
  },
  {
   "cell_type": "code",
   "execution_count": 61,
   "id": "7c0558fa",
   "metadata": {},
   "outputs": [
    {
     "data": {
      "text/html": [
       "<div>\n",
       "<style scoped>\n",
       "    .dataframe tbody tr th:only-of-type {\n",
       "        vertical-align: middle;\n",
       "    }\n",
       "\n",
       "    .dataframe tbody tr th {\n",
       "        vertical-align: top;\n",
       "    }\n",
       "\n",
       "    .dataframe thead th {\n",
       "        text-align: right;\n",
       "    }\n",
       "</style>\n",
       "<table border=\"1\" class=\"dataframe\">\n",
       "  <thead>\n",
       "    <tr style=\"text-align: right;\">\n",
       "      <th></th>\n",
       "      <th>top_words</th>\n",
       "      <th>N_top_words</th>\n",
       "    </tr>\n",
       "  </thead>\n",
       "  <tbody>\n",
       "    <tr>\n",
       "      <th>0</th>\n",
       "      <td>one</td>\n",
       "      <td>1397</td>\n",
       "    </tr>\n",
       "    <tr>\n",
       "      <th>1</th>\n",
       "      <td>find</td>\n",
       "      <td>1172</td>\n",
       "    </tr>\n",
       "    <tr>\n",
       "      <th>2</th>\n",
       "      <td>go</td>\n",
       "      <td>967</td>\n",
       "    </tr>\n",
       "    <tr>\n",
       "      <th>3</th>\n",
       "      <td>take</td>\n",
       "      <td>952</td>\n",
       "    </tr>\n",
       "    <tr>\n",
       "      <th>4</th>\n",
       "      <td>life</td>\n",
       "      <td>941</td>\n",
       "    </tr>\n",
       "    <tr>\n",
       "      <th>5</th>\n",
       "      <td>two</td>\n",
       "      <td>913</td>\n",
       "    </tr>\n",
       "    <tr>\n",
       "      <th>6</th>\n",
       "      <td>back</td>\n",
       "      <td>902</td>\n",
       "    </tr>\n",
       "    <tr>\n",
       "      <th>7</th>\n",
       "      <td>time</td>\n",
       "      <td>893</td>\n",
       "    </tr>\n",
       "    <tr>\n",
       "      <th>8</th>\n",
       "      <td>friend</td>\n",
       "      <td>893</td>\n",
       "    </tr>\n",
       "    <tr>\n",
       "      <th>9</th>\n",
       "      <td>father</td>\n",
       "      <td>856</td>\n",
       "    </tr>\n",
       "  </tbody>\n",
       "</table>\n",
       "</div>"
      ],
      "text/plain": [
       "  top_words  N_top_words\n",
       "0       one         1397\n",
       "1      find         1172\n",
       "2        go          967\n",
       "3      take          952\n",
       "4      life          941\n",
       "5       two          913\n",
       "6      back          902\n",
       "7      time          893\n",
       "8    friend          893\n",
       "9    father          856"
      ]
     },
     "execution_count": 61,
     "metadata": {},
     "output_type": "execute_result"
    }
   ],
   "source": [
    "df1"
   ]
  },
  {
   "cell_type": "code",
   "execution_count": 62,
   "id": "5eaeaa1e",
   "metadata": {},
   "outputs": [
    {
     "name": "stderr",
     "output_type": "stream",
     "text": [
      "C:\\Users\\User\\AppData\\Local\\Temp\\ipykernel_11632\\3943469780.py:1: SettingWithCopyWarning: \n",
      "A value is trying to be set on a copy of a slice from a DataFrame.\n",
      "Try using .loc[row_indexer,col_indexer] = value instead\n",
      "\n",
      "See the caveats in the documentation: https://pandas.pydata.org/pandas-docs/stable/user_guide/indexing.html#returning-a-view-versus-a-copy\n",
      "  df_copy3_top_regs['Plot_word_count'] = df_copy3_top_regs['Plot_2'].apply(lambda x: len(x.split()))\n"
     ]
    }
   ],
   "source": [
    "df_copy3_top_regs['Plot_word_count'] = df_copy3_top_regs['Plot_2'].apply(lambda x: len(x.split()))"
   ]
  },
  {
   "cell_type": "code",
   "execution_count": 63,
   "id": "b370a262",
   "metadata": {},
   "outputs": [
    {
     "data": {
      "text/plain": [
       "6        121\n",
       "7         19\n",
       "14        54\n",
       "15        24\n",
       "16        73\n",
       "        ... \n",
       "34524    103\n",
       "34525    148\n",
       "34526     53\n",
       "34528    108\n",
       "34529    218\n",
       "Name: Plot_word_count, Length: 23339, dtype: int64"
      ]
     },
     "execution_count": 63,
     "metadata": {},
     "output_type": "execute_result"
    }
   ],
   "source": [
    "df_copy3_top_regs['Plot_word_count']"
   ]
  },
  {
   "cell_type": "code",
   "execution_count": 64,
   "id": "44e87a9b",
   "metadata": {},
   "outputs": [],
   "source": [
    "grouped_df=df_copy3_top_regs.groupby(['Origin'])['Plot_word_count'].mean()"
   ]
  },
  {
   "cell_type": "code",
   "execution_count": 65,
   "id": "4e93135e",
   "metadata": {},
   "outputs": [
    {
     "data": {
      "text/plain": [
       "Origin\n",
       "American    236.013231\n",
       "Asian       193.538878\n",
       "British     153.892477\n",
       "Indian      187.752607\n",
       "Name: Plot_word_count, dtype: float64"
      ]
     },
     "execution_count": 65,
     "metadata": {},
     "output_type": "execute_result"
    }
   ],
   "source": [
    "grouped_df"
   ]
  },
  {
   "cell_type": "code",
   "execution_count": 66,
   "id": "e7cc3c99",
   "metadata": {},
   "outputs": [
    {
     "name": "stderr",
     "output_type": "stream",
     "text": [
      "C:\\Users\\User\\AppData\\Local\\Temp\\ipykernel_11632\\3732122263.py:1: SettingWithCopyWarning: \n",
      "A value is trying to be set on a copy of a slice from a DataFrame.\n",
      "Try using .loc[row_indexer,col_indexer] = value instead\n",
      "\n",
      "See the caveats in the documentation: https://pandas.pydata.org/pandas-docs/stable/user_guide/indexing.html#returning-a-view-versus-a-copy\n",
      "  df_copy3_top_regs['Title_word_count'] = df_copy3_top_regs['Title'].apply(lambda x: len(x.split()))\n"
     ]
    }
   ],
   "source": [
    "df_copy3_top_regs['Title_word_count'] = df_copy3_top_regs['Title'].apply(lambda x: len(x.split()))"
   ]
  },
  {
   "cell_type": "code",
   "execution_count": 67,
   "id": "a9ef4559",
   "metadata": {},
   "outputs": [
    {
     "data": {
      "text/plain": [
       "Origin\n",
       "American    2.894627\n",
       "Asian       3.029750\n",
       "British     3.001969\n",
       "Indian      2.069891\n",
       "Name: Title_word_count, dtype: float64"
      ]
     },
     "execution_count": 67,
     "metadata": {},
     "output_type": "execute_result"
    }
   ],
   "source": [
    "df_copy3_top_regs.groupby(['Origin'])['Title_word_count'].mean()"
   ]
  },
  {
   "cell_type": "code",
   "execution_count": 68,
   "id": "44ac857e",
   "metadata": {},
   "outputs": [],
   "source": [
    "df_copy3_top_regs.to_excel('df_copy3_top_regs.xlsx')"
   ]
  },
  {
   "cell_type": "code",
   "execution_count": 69,
   "id": "6a2da9cf",
   "metadata": {},
   "outputs": [],
   "source": [
    "drama_vs_comedy = df_copy3[(df_copy3['Genre_1st_word'] == 'drama') | (df_copy3['Genre_1st_word'] == 'comedy')]"
   ]
  },
  {
   "cell_type": "code",
   "execution_count": 70,
   "id": "1e859e9f",
   "metadata": {},
   "outputs": [],
   "source": [
    "dr_com = drama_vs_comedy.groupby(['Release Year', 'Genre_1st_word'])['Title'].count().to_frame()"
   ]
  },
  {
   "cell_type": "code",
   "execution_count": 71,
   "id": "f8e16cc7",
   "metadata": {},
   "outputs": [],
   "source": [
    "dr_com = dr_com.reset_index()"
   ]
  },
  {
   "cell_type": "code",
   "execution_count": 72,
   "id": "f7f6b48f",
   "metadata": {},
   "outputs": [
    {
     "data": {
      "text/html": [
       "<div>\n",
       "<style scoped>\n",
       "    .dataframe tbody tr th:only-of-type {\n",
       "        vertical-align: middle;\n",
       "    }\n",
       "\n",
       "    .dataframe tbody tr th {\n",
       "        vertical-align: top;\n",
       "    }\n",
       "\n",
       "    .dataframe thead th {\n",
       "        text-align: right;\n",
       "    }\n",
       "</style>\n",
       "<table border=\"1\" class=\"dataframe\">\n",
       "  <thead>\n",
       "    <tr style=\"text-align: right;\">\n",
       "      <th></th>\n",
       "      <th>Release Year</th>\n",
       "      <th>Genre_1st_word</th>\n",
       "      <th>Title</th>\n",
       "    </tr>\n",
       "  </thead>\n",
       "  <tbody>\n",
       "    <tr>\n",
       "      <th>0</th>\n",
       "      <td>1904</td>\n",
       "      <td>comedy</td>\n",
       "      <td>1</td>\n",
       "    </tr>\n",
       "    <tr>\n",
       "      <th>1</th>\n",
       "      <td>1907</td>\n",
       "      <td>comedy</td>\n",
       "      <td>2</td>\n",
       "    </tr>\n",
       "    <tr>\n",
       "      <th>2</th>\n",
       "      <td>1908</td>\n",
       "      <td>comedy</td>\n",
       "      <td>1</td>\n",
       "    </tr>\n",
       "    <tr>\n",
       "      <th>3</th>\n",
       "      <td>1908</td>\n",
       "      <td>drama</td>\n",
       "      <td>3</td>\n",
       "    </tr>\n",
       "    <tr>\n",
       "      <th>4</th>\n",
       "      <td>1909</td>\n",
       "      <td>drama</td>\n",
       "      <td>3</td>\n",
       "    </tr>\n",
       "    <tr>\n",
       "      <th>...</th>\n",
       "      <td>...</td>\n",
       "      <td>...</td>\n",
       "      <td>...</td>\n",
       "    </tr>\n",
       "    <tr>\n",
       "      <th>215</th>\n",
       "      <td>2015</td>\n",
       "      <td>drama</td>\n",
       "      <td>109</td>\n",
       "    </tr>\n",
       "    <tr>\n",
       "      <th>216</th>\n",
       "      <td>2016</td>\n",
       "      <td>comedy</td>\n",
       "      <td>85</td>\n",
       "    </tr>\n",
       "    <tr>\n",
       "      <th>217</th>\n",
       "      <td>2016</td>\n",
       "      <td>drama</td>\n",
       "      <td>127</td>\n",
       "    </tr>\n",
       "    <tr>\n",
       "      <th>218</th>\n",
       "      <td>2017</td>\n",
       "      <td>comedy</td>\n",
       "      <td>86</td>\n",
       "    </tr>\n",
       "    <tr>\n",
       "      <th>219</th>\n",
       "      <td>2017</td>\n",
       "      <td>drama</td>\n",
       "      <td>124</td>\n",
       "    </tr>\n",
       "  </tbody>\n",
       "</table>\n",
       "<p>220 rows × 3 columns</p>\n",
       "</div>"
      ],
      "text/plain": [
       "     Release Year Genre_1st_word  Title\n",
       "0            1904         comedy      1\n",
       "1            1907         comedy      2\n",
       "2            1908         comedy      1\n",
       "3            1908          drama      3\n",
       "4            1909          drama      3\n",
       "..            ...            ...    ...\n",
       "215          2015          drama    109\n",
       "216          2016         comedy     85\n",
       "217          2016          drama    127\n",
       "218          2017         comedy     86\n",
       "219          2017          drama    124\n",
       "\n",
       "[220 rows x 3 columns]"
      ]
     },
     "execution_count": 72,
     "metadata": {},
     "output_type": "execute_result"
    }
   ],
   "source": [
    "dr_com "
   ]
  },
  {
   "cell_type": "code",
   "execution_count": 73,
   "id": "93b77957",
   "metadata": {},
   "outputs": [
    {
     "data": {
      "text/plain": [
       "<AxesSubplot:xlabel='Release Year', ylabel='Title'>"
      ]
     },
     "execution_count": 73,
     "metadata": {},
     "output_type": "execute_result"
    },
    {
     "data": {
      "image/png": "[encoded data removed]",
      "text/plain": [
       "<Figure size 1152x576 with 1 Axes>"
      ]
     },
     "metadata": {
      "needs_background": "light"
     },
     "output_type": "display_data"
    }
   ],
   "source": [
    "fig, ax = plt.subplots(figsize=(16,8))\n",
    "sns.lineplot(x=dr_com['Release Year'] , y=dr_com['Title'], hue = dr_com['Genre_1st_word'])"
   ]
  },
  {
   "cell_type": "code",
   "execution_count": null,
   "id": "2dd21aef",
   "metadata": {},
   "outputs": [],
   "source": []
  }
 ],
 "metadata": {
  "kernelspec": {
   "display_name": "Python 3 (ipykernel)",
   "language": "python",
   "name": "python3"
  },
  "language_info": {
   "codemirror_mode": {
    "name": "ipython",
    "version": 3
   },
   "file_extension": ".py",
   "mimetype": "text/x-python",
   "name": "python",
   "nbconvert_exporter": "python",
   "pygments_lexer": "ipython3",
   "version": "3.9.12"
  }
 },
 "nbformat": 4,
 "nbformat_minor": 5
}
